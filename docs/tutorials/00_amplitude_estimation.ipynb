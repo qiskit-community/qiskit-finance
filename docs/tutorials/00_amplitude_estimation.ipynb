{
 "cells": [
  {
   "cell_type": "markdown",
   "metadata": {},
   "source": [
    "# Quantum Amplitude Estimation\n",
    "\n",
    "Provided with an operator $\\mathcal{A}$ that acts as\n",
    "\n",
    "$$\n",
    "    \\mathcal{A}|0\\rangle = \\sqrt{1 - a}|\\Psi_0\\rangle + \\sqrt{a}|\\Psi_1\\rangle\n",
    "$$\n",
    "\n",
    "Quantum Amplitude Estimation (QAE) is the task of finding an estimate for the amplitude $a$ of the state $|\\Psi_1\\rangle$:\n",
    "\n",
    "$$\n",
    "    a = |\\langle\\Psi_1 | \\Psi_1\\rangle|^2.\n",
    "$$\n",
    "\n",
    "This task has first been investigated by Brassard et al. [1] in 2000 and their algorithm uses a combination of the Grover operator \n",
    "\n",
    "$$\n",
    "    \\mathcal{Q} = \\mathcal{A}\\mathcal{S}_0\\mathcal{A}^\\dagger\\mathcal{S}_{\\Psi_1}\n",
    "$$\n",
    "\n",
    "where $\\mathcal{S}_0$ and $\\mathcal{S}_{\\Psi_1}$ are reflections about the $|0\\rangle$ and $|\\Psi_1\\rangle$ states, respectively, and phase estimation. However this algorithm, called `AmplitudeEstimation` in Qiskit, requires large circuits and is computationally expensive. Therefore, other variants of QAE have been proposed, which we will showcase in this tutorial for a simple example.\n",
    "\n",
    "In our example, $\\mathcal{A}$ describes a Bernoulli random variable with (assumed to be unknown) success probability $p$:\n",
    "\n",
    "$$\n",
    "    \\mathcal{A}|0\\rangle = \\sqrt{1 - p}|0\\rangle + \\sqrt{p}|1\\rangle.\n",
    "$$\n",
    "\n",
    "On a quantum computer, we can model this operator with a rotation around the $Y$-axis of a single qubit\n",
    "\n",
    "$$\n",
    "\\mathcal{A} = R_Y(\\theta_p), \\theta_p = 2\\sin^{-1}(\\sqrt{p}).\n",
    "$$\n",
    "\n",
    "The Grover operator for this case is particularly simple\n",
    "\n",
    "$$\n",
    "\\mathcal{Q} = R_Y(2\\theta_p),\n",
    "$$\n",
    "\n",
    "whose powers are very easy to calculate: $\\mathcal{Q}^k = R_Y(2k\\theta_p)$."
   ]
  },
  {
   "cell_type": "markdown",
   "metadata": {},
   "source": [
    "We'll fix the probability we want to estimate to $p = 0.2$."
   ]
  },
  {
   "cell_type": "code",
   "execution_count": 8,
   "metadata": {},
   "outputs": [],
   "source": [
    "p = 0.2"
   ]
  },
  {
   "cell_type": "markdown",
   "metadata": {},
   "source": [
    "Now we can define define circuits for $\\mathcal{A}$ and $\\mathcal{Q}$. "
   ]
  },
  {
   "cell_type": "code",
   "execution_count": 4,
   "metadata": {},
   "outputs": [],
   "source": [
    "import numpy as np\n",
    "from qiskit.circuit import QuantumCircuit\n",
    "\n",
    "class BernoulliA(QuantumCircuit):\n",
    "    \"\"\"A circuit representing the Bernoulli A operator.\"\"\"\n",
    "    \n",
    "    def __init__(self, probability):\n",
    "        super().__init__(1)  # circuit on 1 qubit\n",
    "        \n",
    "        theta_p = 2 * np.arcsin(np.sqrt(probability))\n",
    "        self.ry(theta_p, 0)\n",
    "        \n",
    "\n",
    "class BernoulliQ(QuantumCircuit):\n",
    "    \"\"\"A circuit representing the Bernoulli Q operator.\"\"\"\n",
    "    \n",
    "    def __init__(self, probability):\n",
    "        super().__init__(1)  # circuit on 1 qubit\n",
    "        \n",
    "        self._theta_p = 2 * np.arcsin(np.sqrt(probability))\n",
    "        self.ry(2 * self._theta_p, 0)\n",
    "        \n",
    "    def power(self, k):\n",
    "        # implement the efficient power of Q\n",
    "        q_k = QuantumCircuit(1)\n",
    "        q_k.ry(2 * k * self._theta_p, 0)\n",
    "        return q_k"
   ]
  },
  {
   "cell_type": "code",
   "execution_count": 7,
   "metadata": {},
   "outputs": [],
   "source": [
    "A = BernoulliA(p)\n",
    "Q = BernoulliQ(p)"
   ]
  },
  {
   "cell_type": "markdown",
   "metadata": {},
   "source": [
    "### Qiskit's Amplitude Estimation workflow"
   ]
  },
  {
   "cell_type": "markdown",
   "metadata": {},
   "source": [
    "Qiskit implements several QAE algorithms that all derive from the `AmplitudeEstimator` interface. In the initializer we specify algorithm specific settings and the `estimate` method, which does all the work, takes an take an `EstimationProblem` as input and returns an `AmplitudeEstimationResult` object. Since all QAE variants follow the same interface, we can use them all to solve the same problem instance. \n",
    "\n",
    "Next, we'll run all different QAE algorithms. To do so, we first define the estimation problem which will contain the $\\mathcal{A}$ and $\\mathcal{Q}$ operators as well as how to identify the $|\\Psi_1\\rangle$ state, which in this simple example is just $|1\\rangle$."
   ]
  },
  {
   "cell_type": "code",
   "execution_count": 9,
   "metadata": {},
   "outputs": [],
   "source": [
    "from qiskit.algorithms import EstimationProblem\n",
    "\n",
    "problem = EstimationProblem(\n",
    "    state_preparation=A,  # A operator\n",
    "    grover_operator=Q,  # Q operator\n",
    "    objective_qubits=[0],  # the \"good\" state Psi1 is identified as measuring |1> in qubit 0\n",
    ")"
   ]
  },
  {
   "cell_type": "markdown",
   "metadata": {},
   "source": [
    "To execute circuits we'll use Qiskit's statevector simulator."
   ]
  },
  {
   "cell_type": "code",
   "execution_count": 10,
   "metadata": {},
   "outputs": [],
   "source": [
    "from qiskit import BasicAer\n",
    "from qiskit.utils import QuantumInstance\n",
    "\n",
    "backend = BasicAer.get_backend('statevector_simulator')\n",
    "quantum_instance = QuantumInstance(backend)"
   ]
  },
  {
   "cell_type": "markdown",
   "metadata": {},
   "source": [
    "### Canonical AE\n",
    "\n",
    "Now let's solve this with the original QAE implementation by Brassard et al. [1]."
   ]
  },
  {
   "cell_type": "code",
   "execution_count": 12,
   "metadata": {},
   "outputs": [],
   "source": [
    "from qiskit.algorithms import AmplitudeEstimation\n",
    "\n",
    "ae = AmplitudeEstimation(\n",
    "    num_eval_qubits=3,  # the number of evaluation qubits specifies circuit width and accuracy\n",
    "    quantum_instance=quantum_instance\n",
    ")"
   ]
  },
  {
   "cell_type": "markdown",
   "metadata": {},
   "source": [
    "With the algorithm defined, we can call the `estimate` method and provide it with the problem to solve."
   ]
  },
  {
   "cell_type": "code",
   "execution_count": 13,
   "metadata": {},
   "outputs": [],
   "source": [
    "ae_result = ae.estimate(problem)"
   ]
  },
  {
   "cell_type": "markdown",
   "metadata": {},
   "source": [
    "The estimate is available in the `estimation` key:"
   ]
  },
  {
   "cell_type": "code",
   "execution_count": 14,
   "metadata": {},
   "outputs": [
    {
     "name": "stdout",
     "output_type": "stream",
     "text": [
      "0.1464466\n"
     ]
    }
   ],
   "source": [
    "print(ae_result.estimation)"
   ]
  },
  {
   "cell_type": "markdown",
   "metadata": {},
   "source": [
    "We see that this is not a very good estimate for our target of $p=0.2$! That's due to the fact the canonical AE is restricted to a discrete grid, specified by the number of evaluation qubits:"
   ]
  },
  {
   "cell_type": "code",
   "execution_count": 22,
   "metadata": {},
   "outputs": [
    {
     "data": {
      "image/png": "[encoded data removed]",
      "text/plain": [
       "<Figure size 432x288 with 1 Axes>"
      ]
     },
     "metadata": {
      "needs_background": "light"
     },
     "output_type": "display_data"
    }
   ],
   "source": [
    "import matplotlib.pyplot as plt\n",
    "\n",
    "# plot estimated values\n",
    "gridpoints = list(ae_result.samples.keys())\n",
    "probabilities = list(ae_result.samples.values())\n",
    "\n",
    "plt.bar(gridpoints, probabilities, width=0.5/len(probabilities))\n",
    "plt.axvline(p, color='r', ls='--')\n",
    "plt.xticks(size=15)\n",
    "plt.yticks([0, 0.25, 0.5, 0.75, 1], size=15)\n",
    "plt.title('Estimated Values', size=15)\n",
    "plt.ylabel('Probability', size=15)\n",
    "plt.xlabel(r'Amplitude $a$', size=15)\n",
    "plt.ylim((0,1))\n",
    "plt.grid()\n",
    "plt.show()"
   ]
  },
  {
   "cell_type": "markdown",
   "metadata": {},
   "source": [
    "To improve the estimate we can interpolate the measurement probabilities and compute the maximum likelihood estimator that produces this probability distribution:"
   ]
  },
  {
   "cell_type": "code",
   "execution_count": 23,
   "metadata": {},
   "outputs": [
    {
     "name": "stdout",
     "output_type": "stream",
     "text": [
      "Interpolated MLE estimator: 0.19999999390907777\n"
     ]
    }
   ],
   "source": [
    "print('Interpolated MLE estimator:', ae_result.mle)"
   ]
  },
  {
   "cell_type": "markdown",
   "metadata": {},
   "source": [
    "We can have a look at the circuit that AE executes:"
   ]
  },
  {
   "cell_type": "code",
   "execution_count": 35,
   "metadata": {},
   "outputs": [
    {
     "data": {
      "image/png": "[encoded data removed]",
      "text/plain": [
       "<Figure size 659.115x264.88 with 1 Axes>"
      ]
     },
     "execution_count": 35,
     "metadata": {},
     "output_type": "execute_result"
    }
   ],
   "source": [
    "ae_circuit = ae.construct_circuit(problem)\n",
    "ae_circuit.decompose().draw('mpl', style='iqx')  # decompose 1 level: exposes the Phase estimation circuit!"
   ]
  },
  {
   "cell_type": "code",
   "execution_count": 50,
   "metadata": {},
   "outputs": [
    {
     "data": {
      "image/png": "[encoded data removed]",
      "text/plain": [
       "<Figure size 1622.31x1167.88 with 1 Axes>"
      ]
     },
     "execution_count": 50,
     "metadata": {},
     "output_type": "execute_result"
    }
   ],
   "source": [
    "from qiskit import transpile\n",
    "\n",
    "\n",
    "basis_gates = ['h', 'ry', 'cry', 'cx', 'ccx', 'p', 'cp', 'x', 's', 'sdg', 'y', 't', 'cz']\n",
    "transpile(ae_circuit, basis_gates=basis_gates, optimization_level=2).draw('mpl', style='iqx')"
   ]
  },
  {
   "cell_type": "markdown",
   "metadata": {},
   "source": [
    "### Iterative Amplitude Estimation\n",
    "\n",
    "See [2]."
   ]
  },
  {
   "cell_type": "code",
   "execution_count": 28,
   "metadata": {},
   "outputs": [
    {
     "name": "stdout",
     "output_type": "stream",
     "text": [
      "Estimate: 0.19999999999999998\n"
     ]
    }
   ],
   "source": [
    "from qiskit.algorithms import IterativeAmplitudeEstimation\n",
    "\n",
    "iae = IterativeAmplitudeEstimation(\n",
    "    epsilon_target=0.01,  # target accuracy\n",
    "    alpha=0.05,  # width of the confidence interval\n",
    "    quantum_instance=quantum_instance\n",
    ")\n",
    "iae_result = iae.estimate(problem)\n",
    "\n",
    "print('Estimate:', iae_result.estimation)"
   ]
  },
  {
   "cell_type": "markdown",
   "metadata": {},
   "source": [
    "The circuits here only consist of Grover powers and are much cheaper!"
   ]
  },
  {
   "cell_type": "code",
   "execution_count": 44,
   "metadata": {},
   "outputs": [
    {
     "data": {
      "image/png": "[encoded data removed]",
      "text/plain": [
       "<Figure size 193.726x84.28 with 1 Axes>"
      ]
     },
     "execution_count": 44,
     "metadata": {},
     "output_type": "execute_result"
    }
   ],
   "source": [
    "iae_circuit = iae.construct_circuit(problem, k=3)\n",
    "iae_circuit.draw('mpl', style='iqx')"
   ]
  },
  {
   "cell_type": "markdown",
   "metadata": {},
   "source": [
    "### Maximum Likelihood Amplitude Estimation\n",
    "\n",
    "See [3]."
   ]
  },
  {
   "cell_type": "code",
   "execution_count": 30,
   "metadata": {},
   "outputs": [
    {
     "name": "stdout",
     "output_type": "stream",
     "text": [
      "Estimate: 0.20002237175368104\n"
     ]
    }
   ],
   "source": [
    "from qiskit.algorithms import MaximumLikelihoodAmplitudeEstimation\n",
    "\n",
    "mlae = MaximumLikelihoodAmplitudeEstimation(\n",
    "    evaluation_schedule=3,  # log2 of the maximal Grover power\n",
    "    quantum_instance=quantum_instance\n",
    ")\n",
    "mlae_result = mlae.estimate(problem)\n",
    "\n",
    "print('Estimate:', mlae_result.estimation)"
   ]
  },
  {
   "cell_type": "markdown",
   "metadata": {},
   "source": [
    "### Faster Amplitude Estimation\n",
    "\n",
    "See [4]."
   ]
  },
  {
   "cell_type": "code",
   "execution_count": 31,
   "metadata": {},
   "outputs": [
    {
     "name": "stdout",
     "output_type": "stream",
     "text": [
      "Estimate: 0.20000000000000018\n"
     ]
    },
    {
     "name": "stderr",
     "output_type": "stream",
     "text": [
      "/Users/jul/Qiskit/qiskit-terra/qiskit/algorithms/amplitude_estimators/estimation_problem.py:194: UserWarning: Rescaling discards the Grover operator.\n",
      "  warnings.warn(\"Rescaling discards the Grover operator.\")\n"
     ]
    }
   ],
   "source": [
    "from qiskit.algorithms import FasterAmplitudeEstimation\n",
    "\n",
    "fae = FasterAmplitudeEstimation(\n",
    "    delta=0.01,  # target accuracy\n",
    "    maxiter=3,  # determines the maximal power of the Grover operator \n",
    "    quantum_instance=quantum_instance\n",
    ")\n",
    "fae_result = fae.estimate(problem)\n",
    "\n",
    "print('Estimate:', fae_result.estimation)"
   ]
  },
  {
   "cell_type": "markdown",
   "metadata": {},
   "source": [
    "### References\n",
    "\n",
    "[1] Quantum Amplitude Amplification and Estimation. Brassard et al (2000). https://arxiv.org/abs/quant-ph/0005055\n",
    "\n",
    "[2] Iterative Quantum Amplitude Estimation. Grinko, D., Gacon, J., Zoufal, C., & Woerner, S. (2019). https://arxiv.org/abs/1912.05559\n",
    "\n",
    "[3] Amplitude Estimation without Phase Estimation. Suzuki, Y., Uno, S., Raymond, R., Tanaka, T., Onodera, T., & Yamamoto, N. (2019). https://arxiv.org/abs/1904.10246"
   ]
  },
  {
   "cell_type": "code",
   "execution_count": 32,
   "metadata": {},
   "outputs": [
    {
     "name": "stderr",
     "output_type": "stream",
     "text": [
      "/Users/jul/Qiskit/qiskit-aqua/qiskit/aqua/__init__.py:86: DeprecationWarning: The package qiskit.aqua is deprecated. It was moved/refactored to qiskit-terra For more information see <https://github.com/Qiskit/qiskit-aqua/blob/main/README.md#migration-guide>\n",
      "  warn_package('aqua', 'qiskit-terra')\n"
     ]
    },
    {
     "data": {
      "text/html": [
       "<h3>Version Information</h3><table><tr><th>Qiskit Software</th><th>Version</th></tr><tr><td><code>qiskit-terra</code></td><td>0.19.0.dev0+3ac1081</td></tr><tr><td><code>qiskit-aer</code></td><td>0.9.0</td></tr><tr><td><code>qiskit-ignis</code></td><td>0.7.0.dev0+9201ed8</td></tr><tr><td><code>qiskit-ibmq-provider</code></td><td>0.16.0.dev0+80f9d8e</td></tr><tr><td><code>qiskit-aqua</code></td><td>0.10.0.dev0+bf26214</td></tr><tr><td><code>qiskit</code></td><td>0.25.1</td></tr><tr><td><code>qiskit-nature</code></td><td>0.2.0</td></tr><tr><td><code>qiskit-finance</code></td><td>0.2.0</td></tr><tr><td><code>qiskit-optimization</code></td><td>0.3.0</td></tr><tr><td><code>qiskit-machine-learning</code></td><td>0.2.0</td></tr><tr><th>System information</th></tr><tr><td>Python</td><td>3.7.9 (default, Aug 31 2020, 07:22:35) \n",
       "[Clang 10.0.0 ]</td></tr><tr><td>OS</td><td>Darwin</td></tr><tr><td>CPUs</td><td>4</td></tr><tr><td>Memory (Gb)</td><td>32.0</td></tr><tr><td colspan='2'>Tue Aug 10 19:07:23 2021 CEST</td></tr></table>"
      ],
      "text/plain": [
       "<IPython.core.display.HTML object>"
      ]
     },
     "metadata": {},
     "output_type": "display_data"
    },
    {
     "data": {
      "text/html": [
       "<div style='width: 100%; background-color:#d5d9e0;padding-left: 10px; padding-bottom: 10px; padding-right: 10px; padding-top: 5px'><h3>This code is a part of Qiskit</h3><p>&copy; Copyright IBM 2017, 2021.</p><p>This code is licensed under the Apache License, Version 2.0. You may<br>obtain a copy of this license in the LICENSE.txt file in the root directory<br> of this source tree or at http://www.apache.org/licenses/LICENSE-2.0.<p>Any modifications or derivative works of this code must retain this<br>copyright notice, and modified files need to carry a notice indicating<br>that they have been altered from the originals.</p></div>"
      ],
      "text/plain": [
       "<IPython.core.display.HTML object>"
      ]
     },
     "metadata": {},
     "output_type": "display_data"
    }
   ],
   "source": [
    "import qiskit.tools.jupyter\n",
    "%qiskit_version_table\n",
    "%qiskit_copyright"
   ]
  },
  {
   "cell_type": "code",
   "execution_count": null,
   "metadata": {},
   "outputs": [],
   "source": []
  }
 ],
 "metadata": {
  "kernelspec": {
   "display_name": "Python 3",
   "language": "python",
   "name": "python3"
  },
  "language_info": {
   "codemirror_mode": {
    "name": "ipython",
    "version": 3
   },
   "file_extension": ".py",
   "mimetype": "text/x-python",
   "name": "python",
   "nbconvert_exporter": "python",
   "pygments_lexer": "ipython3",
   "version": "3.7.9"
  }
 },
 "nbformat": 4,
 "nbformat_minor": 4
}
