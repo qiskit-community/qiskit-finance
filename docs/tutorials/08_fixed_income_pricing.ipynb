{
 "cells": [
  {
   "cell_type": "markdown",
   "metadata": {},
   "source": [
    "# Pricing Fixed-Income Assets"
   ]
  },
  {
   "cell_type": "markdown",
   "metadata": {},
   "source": [
    "## Introduction\n",
    "\n",
    "We seek to price a fixed-income asset knowing the distributions describing the relevant interest rates. The cash flows $c_t$ of the asset and the dates at which they occur are known. The total value $V$ of the asset is thus the expectation value of:\n",
    "\n",
    "$$V = \\sum_{t=1}^T \\frac{c_t}{(1+r_t)^t}$$\n",
    "\n",
    "Each cash flow is treated as a zero coupon bond with a corresponding interest rate $r_t$ that depends on its maturity. The user must specify the distribution modeling the uncertainty in each $r_t$ (possibly correlated) as well as the number of qubits he wishes to use to sample each distribution. In this example we expand the value of the asset to first order in the interest rates $r_t$. This corresponds to studying the asset in terms of its duration.\n",
    "<br>\n",
    "<br>\n",
    "The approximation of the objective function follows the following paper:<br>\n",
    "[Quantum Risk Analysis. Woerner, Egger. 2018.](https://arxiv.org/abs/1806.06893)"
   ]
  },
  {
   "cell_type": "code",
   "execution_count": 1,
   "metadata": {
    "ExecuteTime": {
     "end_time": "2020-07-13T23:39:25.388331Z",
     "start_time": "2020-07-13T23:39:23.208125Z"
    }
   },
   "outputs": [],
   "source": [
    "import matplotlib.pyplot as plt\n",
    "\n",
    "%matplotlib inline\n",
    "import numpy as np\n",
    "from qiskit import QuantumCircuit\n",
    "from qiskit_algorithms import IterativeAmplitudeEstimation, EstimationProblem\n",
    "from qiskit_aer.primitives import Sampler\n",
    "from qiskit_finance.circuit.library import NormalDistribution"
   ]
  },
  {
   "cell_type": "markdown",
   "metadata": {},
   "source": [
    "### Uncertainty Model\n",
    "\n",
    "We construct a circuit to load a multivariate normal random distribution in $d$ dimensions into a quantum state.\n",
    "The distribution is truncated to a given box $\\otimes_{i=1}^d [low_i, high_i]$ and discretized using $2^{n_i}$ grid points, where $n_i$ denotes the number of qubits used for dimension $i = 1,\\ldots, d$.\n",
    "The unitary operator corresponding to the circuit implements the following: \n",
    "$$\\big|0\\rangle_{n_1}\\ldots\\big|0\\rangle_{n_d} \\mapsto \\big|\\psi\\rangle = \\sum_{i_1=0}^{2^n_-1}\\ldots\\sum_{i_d=0}^{2^n_-1} \\sqrt{p_{i_1,...,i_d}}\\big|i_1\\rangle_{n_1}\\ldots\\big|i_d\\rangle_{n_d},$$\n",
    "where $p_{i_1, ..., i_d}$ denote the probabilities corresponding to the truncated and discretized distribution and where $i_j$ is mapped to the right interval $[low_j, high_j]$ using the affine map:\n",
    "$$ \\{0, \\ldots, 2^{n_{j}}-1\\} \\ni i_j \\mapsto \\frac{high_j - low_j}{2^{n_j} - 1} * i_j + low_j \\in [low_j, high_j].$$\n",
    "\n",
    "In addition to the uncertainty model, we can also apply an affine map, e.g. resulting from a principal component analysis. The interest rates used are then given by:\n",
    "$$ \\vec{r} = A * \\vec{x} + b,$$\n",
    "where $\\vec{x} \\in \\otimes_{i=1}^d [low_i, high_i]$ follows the given random distribution."
   ]
  },
  {
   "cell_type": "code",
   "execution_count": 2,
   "metadata": {
    "ExecuteTime": {
     "end_time": "2020-07-13T23:39:27.609551Z",
     "start_time": "2020-07-13T23:39:27.600449Z"
    }
   },
   "outputs": [],
   "source": [
    "# can be used in case a principal component analysis has been done to derive the uncertainty model, ignored in this example.\n",
    "A = np.eye(2)\n",
    "b = np.zeros(2)\n",
    "\n",
    "# specify the number of qubits that are used to represent the different dimenions of the uncertainty model\n",
    "num_qubits = [2, 2]\n",
    "\n",
    "# specify the lower and upper bounds for the different dimension\n",
    "low = [0, 0]\n",
    "high = [0.12, 0.24]\n",
    "mu = [0.12, 0.24]\n",
    "sigma = 0.01 * np.eye(2)\n",
    "\n",
    "# construct corresponding distribution\n",
    "bounds = list(zip(low, high))\n",
    "u = NormalDistribution(num_qubits, mu, sigma, bounds)"
   ]
  },
  {
   "cell_type": "code",
   "execution_count": 3,
   "metadata": {
    "ExecuteTime": {
     "end_time": "2020-07-13T23:39:28.547778Z",
     "start_time": "2020-07-13T23:39:28.126558Z"
    },
    "tags": [
     "nbsphinx-thumbnail"
    ]
   },
   "outputs": [
    {
     "data": {
      "image/png": "[encoded data removed]",
      "text/plain": [
       "<Figure size 432x288 with 2 Axes>"
      ]
     },
     "metadata": {
      "needs_background": "light"
     },
     "output_type": "display_data"
    }
   ],
   "source": [
    "# plot contour of probability density function\n",
    "x = np.linspace(low[0], high[0], 2 ** num_qubits[0])\n",
    "y = np.linspace(low[1], high[1], 2 ** num_qubits[1])\n",
    "z = u.probabilities.reshape(2 ** num_qubits[0], 2 ** num_qubits[1])\n",
    "plt.contourf(x, y, z)\n",
    "plt.xticks(x, size=15)\n",
    "plt.yticks(y, size=15)\n",
    "plt.grid()\n",
    "plt.xlabel(\"$r_1$ (%)\", size=15)\n",
    "plt.ylabel(\"$r_2$ (%)\", size=15)\n",
    "plt.colorbar()\n",
    "plt.show()"
   ]
  },
  {
   "cell_type": "markdown",
   "metadata": {},
   "source": [
    "### Cash flow, payoff function, and exact expected value\n",
    "\n",
    "In the following we define the cash flow per period, the resulting payoff function and evaluate the exact expected value.\n",
    "\n",
    "For the payoff function we first use a first order approximation and then apply the same approximation technique as for the linear part of the payoff function of the [European Call Option](03_european_call_option_pricing.ipynb)."
   ]
  },
  {
   "cell_type": "code",
   "execution_count": 4,
   "metadata": {
    "ExecuteTime": {
     "end_time": "2020-07-13T23:39:29.440094Z",
     "start_time": "2020-07-13T23:39:29.189392Z"
    }
   },
   "outputs": [
    {
     "data": {
      "image/png": "[encoded data removed]",
      "text/plain": [
       "<Figure size 432x288 with 1 Axes>"
      ]
     },
     "metadata": {
      "needs_background": "light"
     },
     "output_type": "display_data"
    }
   ],
   "source": [
    "# specify cash flow\n",
    "cf = [1.0, 2.0]\n",
    "periods = range(1, len(cf) + 1)\n",
    "\n",
    "# plot cash flow\n",
    "plt.bar(periods, cf)\n",
    "plt.xticks(periods, size=15)\n",
    "plt.yticks(size=15)\n",
    "plt.grid()\n",
    "plt.xlabel(\"periods\", size=15)\n",
    "plt.ylabel(\"cashflow ($)\", size=15)\n",
    "plt.show()"
   ]
  },
  {
   "cell_type": "code",
   "execution_count": 5,
   "metadata": {
    "ExecuteTime": {
     "end_time": "2020-07-13T23:39:29.698674Z",
     "start_time": "2020-07-13T23:39:29.688947Z"
    }
   },
   "outputs": [
    {
     "name": "stdout",
     "output_type": "stream",
     "text": [
      "Exact value:    \t2.1942\n"
     ]
    }
   ],
   "source": [
    "# estimate real value\n",
    "cnt = 0\n",
    "exact_value = 0.0\n",
    "for x1 in np.linspace(low[0], high[0], pow(2, num_qubits[0])):\n",
    "    for x2 in np.linspace(low[1], high[1], pow(2, num_qubits[1])):\n",
    "        prob = u.probabilities[cnt]\n",
    "        for t in range(len(cf)):\n",
    "            # evaluate linear approximation of real value w.r.t. interest rates\n",
    "            exact_value += prob * (\n",
    "                cf[t] / pow(1 + b[t], t + 1)\n",
    "                - (t + 1) * cf[t] * np.dot(A[:, t], np.asarray([x1, x2])) / pow(1 + b[t], t + 2)\n",
    "            )\n",
    "        cnt += 1\n",
    "print(\"Exact value:    \\t%.4f\" % exact_value)"
   ]
  },
  {
   "cell_type": "code",
   "execution_count": 6,
   "metadata": {
    "ExecuteTime": {
     "end_time": "2020-07-13T23:39:30.128058Z",
     "start_time": "2020-07-13T23:39:30.124504Z"
    }
   },
   "outputs": [],
   "source": [
    "# specify approximation factor\n",
    "c_approx = 0.125\n",
    "\n",
    "# create fixed income pricing application\n",
    "from qiskit_finance.applications.estimation import FixedIncomePricing\n",
    "\n",
    "fixed_income = FixedIncomePricing(\n",
    "    num_qubits=num_qubits,\n",
    "    pca_matrix=A,\n",
    "    initial_interests=b,\n",
    "    cash_flow=cf,\n",
    "    rescaling_factor=c_approx,\n",
    "    bounds=bounds,\n",
    "    uncertainty_model=u,\n",
    ")"
   ]
  },
  {
   "cell_type": "code",
   "execution_count": 7,
   "metadata": {},
   "outputs": [
    {
     "data": {
      "text/html": [
       "<pre style=\"word-wrap: normal;white-space: pre;background: #fff0;line-height: 1.1;font-family: &quot;Courier New&quot;,Courier,monospace\">     ┌────┐\n",
       "q_0: ┤0   ├\n",
       "     │    │\n",
       "q_1: ┤1   ├\n",
       "     │    │\n",
       "q_2: ┤2 F ├\n",
       "     │    │\n",
       "q_3: ┤3   ├\n",
       "     │    │\n",
       "q_4: ┤4   ├\n",
       "     └────┘</pre>"
      ],
      "text/plain": [
       "     ┌────┐\n",
       "q_0: ┤0   ├\n",
       "     │    │\n",
       "q_1: ┤1   ├\n",
       "     │    │\n",
       "q_2: ┤2 F ├\n",
       "     │    │\n",
       "q_3: ┤3   ├\n",
       "     │    │\n",
       "q_4: ┤4   ├\n",
       "     └────┘"
      ]
     },
     "execution_count": 7,
     "metadata": {},
     "output_type": "execute_result"
    }
   ],
   "source": [
    "fixed_income._objective.draw()"
   ]
  },
  {
   "cell_type": "code",
   "execution_count": 8,
   "metadata": {},
   "outputs": [
    {
     "data": {
      "text/html": [
       "<pre style=\"word-wrap: normal;white-space: pre;background: #fff0;line-height: 1.1;font-family: &quot;Courier New&quot;,Courier,monospace\">     ┌───────┐┌────┐\n",
       "q_0: ┤0      ├┤0   ├\n",
       "     │       ││    │\n",
       "q_1: ┤1      ├┤1   ├\n",
       "     │  P(X) ││    │\n",
       "q_2: ┤2      ├┤2 F ├\n",
       "     │       ││    │\n",
       "q_3: ┤3      ├┤3   ├\n",
       "     └───────┘│    │\n",
       "q_4: ─────────┤4   ├\n",
       "              └────┘</pre>"
      ],
      "text/plain": [
       "     ┌───────┐┌────┐\n",
       "q_0: ┤0      ├┤0   ├\n",
       "     │       ││    │\n",
       "q_1: ┤1      ├┤1   ├\n",
       "     │  P(X) ││    │\n",
       "q_2: ┤2      ├┤2 F ├\n",
       "     │       ││    │\n",
       "q_3: ┤3      ├┤3   ├\n",
       "     └───────┘│    │\n",
       "q_4: ─────────┤4   ├\n",
       "              └────┘"
      ]
     },
     "execution_count": 8,
     "metadata": {},
     "output_type": "execute_result"
    }
   ],
   "source": [
    "fixed_income_circ = QuantumCircuit(fixed_income._objective.num_qubits)\n",
    "\n",
    "# load probability distribution\n",
    "fixed_income_circ.append(u, range(u.num_qubits))\n",
    "\n",
    "# apply function\n",
    "fixed_income_circ.append(fixed_income._objective, range(fixed_income._objective.num_qubits))\n",
    "\n",
    "fixed_income_circ.draw()"
   ]
  },
  {
   "cell_type": "code",
   "execution_count": 9,
   "metadata": {
    "ExecuteTime": {
     "end_time": "2020-07-13T23:39:30.566677Z",
     "start_time": "2020-07-13T23:39:30.561554Z"
    }
   },
   "outputs": [],
   "source": [
    "# set target precision and confidence level\n",
    "epsilon = 0.01\n",
    "alpha = 0.05\n",
    "\n",
    "# construct amplitude estimation\n",
    "problem = fixed_income.to_estimation_problem()\n",
    "\n",
    "ae = IterativeAmplitudeEstimation(\n",
    "    epsilon_target=epsilon, alpha=alpha, sampler=Sampler(run_options={\"shots\": 100, \"seed\": 75})\n",
    ")"
   ]
  },
  {
   "cell_type": "code",
   "execution_count": 10,
   "metadata": {
    "ExecuteTime": {
     "end_time": "2020-07-13T23:39:53.292025Z",
     "start_time": "2020-07-13T23:39:30.882045Z"
    }
   },
   "outputs": [],
   "source": [
    "result = ae.estimate(problem)"
   ]
  },
  {
   "cell_type": "code",
   "execution_count": 11,
   "metadata": {
    "ExecuteTime": {
     "end_time": "2020-07-13T23:39:53.298201Z",
     "start_time": "2020-07-13T23:39:53.294221Z"
    }
   },
   "outputs": [
    {
     "name": "stdout",
     "output_type": "stream",
     "text": [
      "Exact value:        \t2.1942\n",
      "Estimated value:    \t2.3437\n",
      "Confidence interval:\t[2.3101, 2.3772]\n"
     ]
    }
   ],
   "source": [
    "conf_int = np.array(result.confidence_interval_processed)\n",
    "print(\"Exact value:        \\t%.4f\" % exact_value)\n",
    "print(\"Estimated value:    \\t%.4f\" % (fixed_income.interpret(result)))\n",
    "print(\"Confidence interval:\\t[%.4f, %.4f]\" % tuple(conf_int))"
   ]
  },
  {
   "cell_type": "code",
   "execution_count": 12,
   "metadata": {
    "ExecuteTime": {
     "end_time": "2020-07-13T23:39:53.845834Z",
     "start_time": "2020-07-13T23:39:53.687281Z"
    }
   },
   "outputs": [
    {
     "data": {
      "text/html": [
       "<h3>Version Information</h3><table><tr><th>Software</th><th>Version</th></tr><tr><td><code>qiskit</code></td><td>None</td></tr><tr><td><code>qiskit-terra</code></td><td>0.45.0.dev0+c626be7</td></tr><tr><td><code>qiskit_finance</code></td><td>0.4.0</td></tr><tr><td><code>qiskit_algorithms</code></td><td>0.2.0</td></tr><tr><td><code>qiskit_ibm_provider</code></td><td>0.6.1</td></tr><tr><td><code>qiskit_optimization</code></td><td>0.6.0</td></tr><tr><td><code>qiskit_aer</code></td><td>0.12.0</td></tr><tr><th colspan='2'>System information</th></tr><tr><td>Python version</td><td>3.9.7</td></tr><tr><td>Python compiler</td><td>GCC 7.5.0</td></tr><tr><td>Python build</td><td>default, Sep 16 2021 13:09:58</td></tr><tr><td>OS</td><td>Linux</td></tr><tr><td>CPUs</td><td>2</td></tr><tr><td>Memory (Gb)</td><td>5.778430938720703</td></tr><tr><td colspan='2'>Fri Aug 18 16:21:18 2023 EDT</td></tr></table>"
      ],
      "text/plain": [
       "<IPython.core.display.HTML object>"
      ]
     },
     "metadata": {},
     "output_type": "display_data"
    },
    {
     "data": {
      "text/html": [
       "<div style='width: 100%; background-color:#d5d9e0;padding-left: 10px; padding-bottom: 10px; padding-right: 10px; padding-top: 5px'><h3>This code is a part of Qiskit</h3><p>&copy; Copyright IBM 2017, 2023.</p><p>This code is licensed under the Apache License, Version 2.0. You may<br>obtain a copy of this license in the LICENSE.txt file in the root directory<br> of this source tree or at http://www.apache.org/licenses/LICENSE-2.0.<p>Any modifications or derivative works of this code must retain this<br>copyright notice, and modified files need to carry a notice indicating<br>that they have been altered from the originals.</p></div>"
      ],
      "text/plain": [
       "<IPython.core.display.HTML object>"
      ]
     },
     "metadata": {},
     "output_type": "display_data"
    }
   ],
   "source": [
    "import tutorial_magics\n",
    "\n",
    "%qiskit_version_table\n",
    "%qiskit_copyright"
   ]
  },
  {
   "cell_type": "code",
   "execution_count": null,
   "metadata": {},
   "outputs": [],
   "source": []
  }
 ],
 "metadata": {
  "celltoolbar": "Tags",
  "kernelspec": {
   "display_name": "Python 3",
   "language": "python",
   "name": "python3"
  },
  "language_info": {
   "codemirror_mode": {
    "name": "ipython",
    "version": 3
   },
   "file_extension": ".py",
   "mimetype": "text/x-python",
   "name": "python",
   "nbconvert_exporter": "python",
   "pygments_lexer": "ipython3",
   "version": "3.9.7"
  },
  "varInspector": {
   "cols": {
    "lenName": 16,
    "lenType": 16,
    "lenVar": 40
   },
   "kernels_config": {
    "python": {
     "delete_cmd_postfix": "",
     "delete_cmd_prefix": "del ",
     "library": "var_list.py",
     "varRefreshCmd": "print(var_dic_list())"
    },
    "r": {
     "delete_cmd_postfix": ") ",
     "delete_cmd_prefix": "rm(",
     "library": "var_list.r",
     "varRefreshCmd": "cat(var_dic_list()) "
    }
   },
   "types_to_exclude": [
    "module",
    "function",
    "builtin_function_or_method",
    "instance",
    "_Feature"
   ],
   "window_display": false
  },
  "vscode": {
   "interpreter": {
    "hash": "e3b168dd14084693aa742087410f9921d6040e41eb6bdb17b20e4003862f82dd"
   }
  }
 },
 "nbformat": 4,
 "nbformat_minor": 1
}
