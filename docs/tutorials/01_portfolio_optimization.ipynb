{
 "cells": [
  {
   "cell_type": "markdown",
   "metadata": {
    "collapsed": true
   },
   "source": [
    "# Portfolio Optimization\n"
   ]
  },
  {
   "attachments": {},
   "cell_type": "markdown",
   "metadata": {},
   "source": [
    "## Introduction\n",
    "\n",
    "This tutorial shows how to solve the following mean-variance portfolio optimization problem for $n$ assets:\n",
    "\n",
    "$$\\begin{aligned}\n",
    "\\min_{x \\in \\{0, 1\\}^n}  q x^T \\Sigma x - \\mu^T x\\\\\n",
    "\\text{subject to: } 1^T x = B\n",
    "\\end{aligned}$$\n",
    "\n",
    "where we use the following notation:\n",
    "\n",
    "- $x \\in \\{0, 1\\}^n$ denotes the vector of binary decision variables, which indicate which assets to pick ($x[i] = 1$) and which not to pick ($x[i] = 0$),\n",
    "- $\\mu \\in \\mathbb{R}^n$ defines the expected returns for the assets,\n",
    "- $\\Sigma \\in \\mathbb{R}^{n \\times n}$ specifies the covariances between the assets,\n",
    "- $q > 0$ controls the risk appetite of the decision maker,\n",
    "- and $B$ denotes the budget, i.e. the number of assets to be selected out of $n$.\n",
    "\n",
    "We assume the following simplifications:\n",
    "- all assets have the same price (normalized to 1),\n",
    "- the full budget $B$ has to be spent, i.e. one has to select exactly $B$ assets.\n",
    "\n",
    "The equality constraint $1^T x = B$ is mapped to a penalty term $(1^T x - B)^2$ which is scaled by a parameter and subtracted from the objective function. \n",
    "The resulting problem can be mapped to a Hamiltonian whose ground state corresponds to  the optimal solution.\n",
    "This notebook shows how to use the Sampling Variational Quantum Eigensolver (`SamplingVQE`) or the Quantum Approximate Optimization Algorithm (`QAOA`) to find the optimal solution for a given set of parameters.\n",
    "\n",
    "Experiments on real quantum hardware for this problem are reported for instance in the following paper:\n",
    "<br>\n",
    "[Improving Variational Quantum Optimization using CVaR. Barkoutsos et al. 2019.](https://arxiv.org/abs/1907.04769)"
   ]
  },
  {
   "cell_type": "code",
   "execution_count": 1,
   "metadata": {
    "ExecuteTime": {
     "end_time": "2020-07-13T20:35:05.710593Z",
     "start_time": "2020-07-13T20:34:57.647535Z"
    }
   },
   "outputs": [],
   "source": [
<<<<<<< HEAD
    "from qiskit import Aer\n",
    "from qiskit.algorithms import VQE, QAOA, NumPyMinimumEigensolver\n",
=======
    "from qiskit.algorithms.minimum_eigensolvers import NumPyMinimumEigensolver, QAOA, SamplingVQE\n",
>>>>>>> 78bb2e6 (Update tutorials for primitive based algos & optimization (#241))
    "from qiskit.algorithms.optimizers import COBYLA\n",
    "from qiskit.circuit.library import TwoLocal\n",
    "from qiskit.result import QuasiDistribution\n",
    "from qiskit_aer.primitives import Sampler\n",
    "from qiskit_finance.applications.optimization import PortfolioOptimization\n",
    "from qiskit_finance.data_providers import RandomDataProvider\n",
    "from qiskit_optimization.algorithms import MinimumEigenOptimizer\n",
    "import numpy as np\n",
    "import matplotlib.pyplot as plt\n",
    "import datetime"
   ]
  },
  {
   "cell_type": "markdown",
   "metadata": {},
   "source": [
    "### [Optional] Setup token to run the experiment on a real device\n",
    "If you would like to run the experiment on a real device, you need to setup your account first.\n",
    "\n",
    "Note: If you do not store your token yet, use `IBMQ.save_account('MY_API_TOKEN')` to store it first."
   ]
  },
  {
   "cell_type": "markdown",
   "metadata": {},
   "source": [
    "## Define problem instance\n",
    "\n",
    "Here an Operator instance is created for our Hamiltonian. In this case the paulis are from an Ising Hamiltonian translated from the portfolio problem. We use a random portfolio problem for this notebook. It is straight-forward to extend this to using real financial data as illustrated here:<br>\n",
    "[Loading and Processing Stock-Market Time-Series Data](11_time_series.ipynb)"
   ]
  },
  {
   "cell_type": "code",
   "execution_count": 2,
   "metadata": {
    "ExecuteTime": {
     "end_time": "2020-07-13T20:35:15.224327Z",
     "start_time": "2020-07-13T20:35:15.213892Z"
    }
   },
   "outputs": [],
   "source": [
    "# set number of assets (= number of qubits)\n",
    "num_assets = 4\n",
    "seed = 123\n",
    "\n",
    "# Generate expected return and covariance matrix from (random) time-series\n",
    "stocks = [(\"TICKER%s\" % i) for i in range(num_assets)]\n",
    "data = RandomDataProvider(\n",
    "    tickers=stocks,\n",
    "    start=datetime.datetime(2016, 1, 1),\n",
    "    end=datetime.datetime(2016, 1, 30),\n",
    "    seed=seed,\n",
    ")\n",
    "data.run()\n",
    "mu = data.get_period_return_mean_vector()\n",
    "sigma = data.get_period_return_covariance_matrix()"
   ]
  },
  {
   "cell_type": "code",
   "execution_count": 3,
   "metadata": {
    "tags": [
     "nbsphinx-thumbnail"
    ]
   },
   "outputs": [
    {
     "output_type": "display_data",
     "data": {
<<<<<<< HEAD
      "text/plain": "<Figure size 432x288 with 1 Axes>",
      "image/svg+xml": "<?xml version=\"1.0\" encoding=\"utf-8\" standalone=\"no\"?>\n<!DOCTYPE svg PUBLIC \"-//W3C//DTD SVG 1.1//EN\"\n  \"http://www.w3.org/Graphics/SVG/1.1/DTD/svg11.dtd\">\n<!-- Created with matplotlib (https://matplotlib.org/) -->\n<svg height=\"252.317344pt\" version=\"1.1\" viewBox=\"0 0 263.122812 252.317344\" width=\"263.122812pt\" xmlns=\"http://www.w3.org/2000/svg\" xmlns:xlink=\"http://www.w3.org/1999/xlink\">\n <metadata>\n  <rdf:RDF xmlns:cc=\"http://creativecommons.org/ns#\" xmlns:dc=\"http://purl.org/dc/elements/1.1/\" xmlns:rdf=\"http://www.w3.org/1999/02/22-rdf-syntax-ns#\">\n   <cc:Work>\n    <dc:type rdf:resource=\"http://purl.org/dc/dcmitype/StillImage\"/>\n    <dc:date>2021-03-18T18:34:49.904776</dc:date>\n    <dc:format>image/svg+xml</dc:format>\n    <dc:creator>\n     <cc:Agent>\n      <dc:title>Matplotlib v3.3.4, https://matplotlib.org/</dc:title>\n     </cc:Agent>\n    </dc:creator>\n   </cc:Work>\n  </rdf:RDF>\n </metadata>\n <defs>\n  <style type=\"text/css\">*{stroke-linecap:butt;stroke-linejoin:round;}</style>\n </defs>\n <g id=\"figure_1\">\n  <g id=\"patch_1\">\n   <path d=\"M 0 252.317344 \nL 263.122812 252.317344 \nL 263.122812 0 \nL 0 0 \nz\n\" style=\"fill:none;\"/>\n  </g>\n  <g id=\"axes_1\">\n   <g id=\"patch_2\">\n    <path d=\"M 38.482813 228.439219 \nL 255.922813 228.439219 \nL 255.922813 10.999219 \nL 38.482813 10.999219 \nz\n\" style=\"fill:#ffffff;\"/>\n   </g>\n   <g clip-path=\"url(#p6b498e7650)\">\n    <image height=\"218\" id=\"imagea5d22bfc9e\" transform=\"scale(1 -1)translate(0 -218)\" width=\"218\" x=\"38.482813\" xlink:href=\"data:image/png;base64,\niVBORw0KGgoAAAANSUhEUgAAANoAAADaCAYAAADAHVzbAAAC9ElEQVR4nO3VvUkkUACFUXUG1lxHVxBMNDA2MjcQLMAWLMkutoytwkAQRM39AWWs4n0P9JwKbvJxNy8W1+uNH2ix2pk9YZivp+fZE4ZYnJ7MnjDM1uwB8BsIDQJCg4DQICA0CAgNAkKDgNAgIDQICA0CQoOA0CAgNAgIDQJCg4DQICA0CAgNAkKDgNAgIDQICA0CQoOA0CAgNAgIDQJCg4DQICA0CAgNAkKDgNAgIDQICA0CQoOA0CAgNAgIDQJCg4DQICA0CAgNAkKDgNAgIDQICA0CQoOA0CAgNAgIDQJCg4DQICA0CAgNAsvl0eHsDUOsX99mTxjm5eZ89oQhVrf/Z08YxqNBQGgQEBoEhAYBoUFAaBAQGgSEBgGhQUBoEBAaBIQGAaFBQGgQEBoEhAYBoUFAaBAQGgSEBgGhQUBoEBAaBIQGAaFBQGgQEBoEhAYBoUFAaBAQGgSEBgGhQUBoEBAaBIQGAaFBQGgQEBoEhAYBoUFAaBAQGgSEBgGhQUBoEBAaBIQGAaFBQGgQEBoEhAYBoUFgufH+MXvDEOuD3dkThvn77272hDH292YvGMajQUBoEBAaBIQGAaFBQGgQEBoEhAYBoUFAaBAQGgSEBgGhQUBoEBAaBIQGAaFBQGgQEBoEhAYBoUFAaBAQGgSEBgGhQUBoEBAaBIQGAaFBQGgQEBoEhAYBoUFAaBAQGgSEBgGhQUBoEBAaBIQGAaFBQGgQEBoEhAYBoUFAaBAQGgSEBgGhQUBoEBAaBIQGAaFBQGgQ2Px6PF7PHjHC1dnl7AnjbP+ZvWCIz/uH2ROG8WgQEBoEhAYBoUFAaBAQGgSEBgGhQUBoEBAaBIQGAaFBQGgQEBoEhAYBoUFAaBAQGgSEBgGhQUBoEBAaBIQGAaFBQGgQEBoEhAYBoUFAaBAQGgSEBgGhQUBoEBAaBIQGAaFBQGgQEBoEhAYBoUFAaBAQGgSEBgGhQUBoEBAaBIQGAaFBQGgQEBoEhAYBoUFAaBD4Bjq0GFbXmb+nAAAAAElFTkSuQmCC\" y=\"-10.439219\"/>\n   </g>\n   <g id=\"matplotlib.axis_1\">\n    <g id=\"xtick_1\">\n     <g id=\"line2d_1\">\n      <defs>\n       <path d=\"M 0 0 \nL 0 3.5 \n\" id=\"m00512fae65\" style=\"stroke:#000000;stroke-width:0.8;\"/>\n      </defs>\n      <g>\n       <use style=\"stroke:#000000;stroke-width:0.8;\" x=\"65.662813\" xlink:href=\"#m00512fae65\" y=\"228.439219\"/>\n      </g>\n     </g>\n     <g id=\"text_1\">\n      <!-- 0 -->\n      <g transform=\"translate(62.481563 243.037656)scale(0.1 -0.1)\">\n       <defs>\n        <path d=\"M 31.78125 66.40625 \nQ 24.171875 66.40625 20.328125 58.90625 \nQ 16.5 51.421875 16.5 36.375 \nQ 16.5 21.390625 20.328125 13.890625 \nQ 24.171875 6.390625 31.78125 6.390625 \nQ 39.453125 6.390625 43.28125 13.890625 \nQ 47.125 21.390625 47.125 36.375 \nQ 47.125 51.421875 43.28125 58.90625 \nQ 39.453125 66.40625 31.78125 66.40625 \nz\nM 31.78125 74.21875 \nQ 44.046875 74.21875 50.515625 64.515625 \nQ 56.984375 54.828125 56.984375 36.375 \nQ 56.984375 17.96875 50.515625 8.265625 \nQ 44.046875 -1.421875 31.78125 -1.421875 \nQ 19.53125 -1.421875 13.0625 8.265625 \nQ 6.59375 17.96875 6.59375 36.375 \nQ 6.59375 54.828125 13.0625 64.515625 \nQ 19.53125 74.21875 31.78125 74.21875 \nz\n\" id=\"DejaVuSans-48\"/>\n       </defs>\n       <use xlink:href=\"#DejaVuSans-48\"/>\n      </g>\n     </g>\n    </g>\n    <g id=\"xtick_2\">\n     <g id=\"line2d_2\">\n      <g>\n       <use style=\"stroke:#000000;stroke-width:0.8;\" x=\"120.022813\" xlink:href=\"#m00512fae65\" y=\"228.439219\"/>\n      </g>\n     </g>\n     <g id=\"text_2\">\n      <!-- 1 -->\n      <g transform=\"translate(116.841562 243.037656)scale(0.1 -0.1)\">\n       <defs>\n        <path d=\"M 12.40625 8.296875 \nL 28.515625 8.296875 \nL 28.515625 63.921875 \nL 10.984375 60.40625 \nL 10.984375 69.390625 \nL 28.421875 72.90625 \nL 38.28125 72.90625 \nL 38.28125 8.296875 \nL 54.390625 8.296875 \nL 54.390625 0 \nL 12.40625 0 \nz\n\" id=\"DejaVuSans-49\"/>\n       </defs>\n       <use xlink:href=\"#DejaVuSans-49\"/>\n      </g>\n     </g>\n    </g>\n    <g id=\"xtick_3\">\n     <g id=\"line2d_3\">\n      <g>\n       <use style=\"stroke:#000000;stroke-width:0.8;\" x=\"174.382812\" xlink:href=\"#m00512fae65\" y=\"228.439219\"/>\n      </g>\n     </g>\n     <g id=\"text_3\">\n      <!-- 2 -->\n      <g transform=\"translate(171.201562 243.037656)scale(0.1 -0.1)\">\n       <defs>\n        <path d=\"M 19.1875 8.296875 \nL 53.609375 8.296875 \nL 53.609375 0 \nL 7.328125 0 \nL 7.328125 8.296875 \nQ 12.9375 14.109375 22.625 23.890625 \nQ 32.328125 33.6875 34.8125 36.53125 \nQ 39.546875 41.84375 41.421875 45.53125 \nQ 43.3125 49.21875 43.3125 52.78125 \nQ 43.3125 58.59375 39.234375 62.25 \nQ 35.15625 65.921875 28.609375 65.921875 \nQ 23.96875 65.921875 18.8125 64.3125 \nQ 13.671875 62.703125 7.8125 59.421875 \nL 7.8125 69.390625 \nQ 13.765625 71.78125 18.9375 73 \nQ 24.125 74.21875 28.421875 74.21875 \nQ 39.75 74.21875 46.484375 68.546875 \nQ 53.21875 62.890625 53.21875 53.421875 \nQ 53.21875 48.921875 51.53125 44.890625 \nQ 49.859375 40.875 45.40625 35.40625 \nQ 44.1875 33.984375 37.640625 27.21875 \nQ 31.109375 20.453125 19.1875 8.296875 \nz\n\" id=\"DejaVuSans-50\"/>\n       </defs>\n       <use xlink:href=\"#DejaVuSans-50\"/>\n      </g>\n     </g>\n    </g>\n    <g id=\"xtick_4\">\n     <g id=\"line2d_4\">\n      <g>\n       <use style=\"stroke:#000000;stroke-width:0.8;\" x=\"228.742812\" xlink:href=\"#m00512fae65\" y=\"228.439219\"/>\n      </g>\n     </g>\n     <g id=\"text_4\">\n      <!-- 3 -->\n      <g transform=\"translate(225.561562 243.037656)scale(0.1 -0.1)\">\n       <defs>\n        <path d=\"M 40.578125 39.3125 \nQ 47.65625 37.796875 51.625 33 \nQ 55.609375 28.21875 55.609375 21.1875 \nQ 55.609375 10.40625 48.1875 4.484375 \nQ 40.765625 -1.421875 27.09375 -1.421875 \nQ 22.515625 -1.421875 17.65625 -0.515625 \nQ 12.796875 0.390625 7.625 2.203125 \nL 7.625 11.71875 \nQ 11.71875 9.328125 16.59375 8.109375 \nQ 21.484375 6.890625 26.8125 6.890625 \nQ 36.078125 6.890625 40.9375 10.546875 \nQ 45.796875 14.203125 45.796875 21.1875 \nQ 45.796875 27.640625 41.28125 31.265625 \nQ 36.765625 34.90625 28.71875 34.90625 \nL 20.21875 34.90625 \nL 20.21875 43.015625 \nL 29.109375 43.015625 \nQ 36.375 43.015625 40.234375 45.921875 \nQ 44.09375 48.828125 44.09375 54.296875 \nQ 44.09375 59.90625 40.109375 62.90625 \nQ 36.140625 65.921875 28.71875 65.921875 \nQ 24.65625 65.921875 20.015625 65.03125 \nQ 15.375 64.15625 9.8125 62.3125 \nL 9.8125 71.09375 \nQ 15.4375 72.65625 20.34375 73.4375 \nQ 25.25 74.21875 29.59375 74.21875 \nQ 40.828125 74.21875 47.359375 69.109375 \nQ 53.90625 64.015625 53.90625 55.328125 \nQ 53.90625 49.265625 50.4375 45.09375 \nQ 46.96875 40.921875 40.578125 39.3125 \nz\n\" id=\"DejaVuSans-51\"/>\n       </defs>\n       <use xlink:href=\"#DejaVuSans-51\"/>\n      </g>\n     </g>\n    </g>\n   </g>\n   <g id=\"matplotlib.axis_2\">\n    <g id=\"ytick_1\">\n     <g id=\"line2d_5\">\n      <defs>\n       <path d=\"M 0 0 \nL -3.5 0 \n\" id=\"mbcde4faf6a\" style=\"stroke:#000000;stroke-width:0.8;\"/>\n      </defs>\n      <g>\n       <use style=\"stroke:#000000;stroke-width:0.8;\" x=\"38.482813\" xlink:href=\"#mbcde4faf6a\" y=\"10.999219\"/>\n      </g>\n     </g>\n     <g id=\"text_5\">\n      <!-- −0.5 -->\n      <g transform=\"translate(7.2 14.798437)scale(0.1 -0.1)\">\n       <defs>\n        <path d=\"M 10.59375 35.5 \nL 73.1875 35.5 \nL 73.1875 27.203125 \nL 10.59375 27.203125 \nz\n\" id=\"DejaVuSans-8722\"/>\n        <path d=\"M 10.6875 12.40625 \nL 21 12.40625 \nL 21 0 \nL 10.6875 0 \nz\n\" id=\"DejaVuSans-46\"/>\n        <path d=\"M 10.796875 72.90625 \nL 49.515625 72.90625 \nL 49.515625 64.59375 \nL 19.828125 64.59375 \nL 19.828125 46.734375 \nQ 21.96875 47.46875 24.109375 47.828125 \nQ 26.265625 48.1875 28.421875 48.1875 \nQ 40.625 48.1875 47.75 41.5 \nQ 54.890625 34.8125 54.890625 23.390625 \nQ 54.890625 11.625 47.5625 5.09375 \nQ 40.234375 -1.421875 26.90625 -1.421875 \nQ 22.3125 -1.421875 17.546875 -0.640625 \nQ 12.796875 0.140625 7.71875 1.703125 \nL 7.71875 11.625 \nQ 12.109375 9.234375 16.796875 8.0625 \nQ 21.484375 6.890625 26.703125 6.890625 \nQ 35.15625 6.890625 40.078125 11.328125 \nQ 45.015625 15.765625 45.015625 23.390625 \nQ 45.015625 31 40.078125 35.4375 \nQ 35.15625 39.890625 26.703125 39.890625 \nQ 22.75 39.890625 18.8125 39.015625 \nQ 14.890625 38.140625 10.796875 36.28125 \nz\n\" id=\"DejaVuSans-53\"/>\n       </defs>\n       <use xlink:href=\"#DejaVuSans-8722\"/>\n       <use x=\"83.789062\" xlink:href=\"#DejaVuSans-48\"/>\n       <use x=\"147.412109\" xlink:href=\"#DejaVuSans-46\"/>\n       <use x=\"179.199219\" xlink:href=\"#DejaVuSans-53\"/>\n      </g>\n     </g>\n    </g>\n    <g id=\"ytick_2\">\n     <g id=\"line2d_6\">\n      <g>\n       <use style=\"stroke:#000000;stroke-width:0.8;\" x=\"38.482813\" xlink:href=\"#mbcde4faf6a\" y=\"38.179219\"/>\n      </g>\n     </g>\n     <g id=\"text_6\">\n      <!-- 0.0 -->\n      <g transform=\"translate(15.579688 41.978437)scale(0.1 -0.1)\">\n       <use xlink:href=\"#DejaVuSans-48\"/>\n       <use x=\"63.623047\" xlink:href=\"#DejaVuSans-46\"/>\n       <use x=\"95.410156\" xlink:href=\"#DejaVuSans-48\"/>\n      </g>\n     </g>\n    </g>\n    <g id=\"ytick_3\">\n     <g id=\"line2d_7\">\n      <g>\n       <use style=\"stroke:#000000;stroke-width:0.8;\" x=\"38.482813\" xlink:href=\"#mbcde4faf6a\" y=\"65.359219\"/>\n      </g>\n     </g>\n     <g id=\"text_7\">\n      <!-- 0.5 -->\n      <g transform=\"translate(15.579688 69.158437)scale(0.1 -0.1)\">\n       <use xlink:href=\"#DejaVuSans-48\"/>\n       <use x=\"63.623047\" xlink:href=\"#DejaVuSans-46\"/>\n       <use x=\"95.410156\" xlink:href=\"#DejaVuSans-53\"/>\n      </g>\n     </g>\n    </g>\n    <g id=\"ytick_4\">\n     <g id=\"line2d_8\">\n      <g>\n       <use style=\"stroke:#000000;stroke-width:0.8;\" x=\"38.482813\" xlink:href=\"#mbcde4faf6a\" y=\"92.539219\"/>\n      </g>\n     </g>\n     <g id=\"text_8\">\n      <!-- 1.0 -->\n      <g transform=\"translate(15.579688 96.338437)scale(0.1 -0.1)\">\n       <use xlink:href=\"#DejaVuSans-49\"/>\n       <use x=\"63.623047\" xlink:href=\"#DejaVuSans-46\"/>\n       <use x=\"95.410156\" xlink:href=\"#DejaVuSans-48\"/>\n      </g>\n     </g>\n    </g>\n    <g id=\"ytick_5\">\n     <g id=\"line2d_9\">\n      <g>\n       <use style=\"stroke:#000000;stroke-width:0.8;\" x=\"38.482813\" xlink:href=\"#mbcde4faf6a\" y=\"119.719219\"/>\n      </g>\n     </g>\n     <g id=\"text_9\">\n      <!-- 1.5 -->\n      <g transform=\"translate(15.579688 123.518437)scale(0.1 -0.1)\">\n       <use xlink:href=\"#DejaVuSans-49\"/>\n       <use x=\"63.623047\" xlink:href=\"#DejaVuSans-46\"/>\n       <use x=\"95.410156\" xlink:href=\"#DejaVuSans-53\"/>\n      </g>\n     </g>\n    </g>\n    <g id=\"ytick_6\">\n     <g id=\"line2d_10\">\n      <g>\n       <use style=\"stroke:#000000;stroke-width:0.8;\" x=\"38.482813\" xlink:href=\"#mbcde4faf6a\" y=\"146.899219\"/>\n      </g>\n     </g>\n     <g id=\"text_10\">\n      <!-- 2.0 -->\n      <g transform=\"translate(15.579688 150.698437)scale(0.1 -0.1)\">\n       <use xlink:href=\"#DejaVuSans-50\"/>\n       <use x=\"63.623047\" xlink:href=\"#DejaVuSans-46\"/>\n       <use x=\"95.410156\" xlink:href=\"#DejaVuSans-48\"/>\n      </g>\n     </g>\n    </g>\n    <g id=\"ytick_7\">\n     <g id=\"line2d_11\">\n      <g>\n       <use style=\"stroke:#000000;stroke-width:0.8;\" x=\"38.482813\" xlink:href=\"#mbcde4faf6a\" y=\"174.079219\"/>\n      </g>\n     </g>\n     <g id=\"text_11\">\n      <!-- 2.5 -->\n      <g transform=\"translate(15.579688 177.878437)scale(0.1 -0.1)\">\n       <use xlink:href=\"#DejaVuSans-50\"/>\n       <use x=\"63.623047\" xlink:href=\"#DejaVuSans-46\"/>\n       <use x=\"95.410156\" xlink:href=\"#DejaVuSans-53\"/>\n      </g>\n     </g>\n    </g>\n    <g id=\"ytick_8\">\n     <g id=\"line2d_12\">\n      <g>\n       <use style=\"stroke:#000000;stroke-width:0.8;\" x=\"38.482813\" xlink:href=\"#mbcde4faf6a\" y=\"201.259219\"/>\n      </g>\n     </g>\n     <g id=\"text_12\">\n      <!-- 3.0 -->\n      <g transform=\"translate(15.579688 205.058437)scale(0.1 -0.1)\">\n       <use xlink:href=\"#DejaVuSans-51\"/>\n       <use x=\"63.623047\" xlink:href=\"#DejaVuSans-46\"/>\n       <use x=\"95.410156\" xlink:href=\"#DejaVuSans-48\"/>\n      </g>\n     </g>\n    </g>\n    <g id=\"ytick_9\">\n     <g id=\"line2d_13\">\n      <g>\n       <use style=\"stroke:#000000;stroke-width:0.8;\" x=\"38.482813\" xlink:href=\"#mbcde4faf6a\" y=\"228.439219\"/>\n      </g>\n     </g>\n     <g id=\"text_13\">\n      <!-- 3.5 -->\n      <g transform=\"translate(15.579688 232.238437)scale(0.1 -0.1)\">\n       <use xlink:href=\"#DejaVuSans-51\"/>\n       <use x=\"63.623047\" xlink:href=\"#DejaVuSans-46\"/>\n       <use x=\"95.410156\" xlink:href=\"#DejaVuSans-53\"/>\n      </g>\n     </g>\n    </g>\n   </g>\n   <g id=\"patch_3\">\n    <path d=\"M 38.482813 228.439219 \nL 38.482813 10.999219 \n\" style=\"fill:none;stroke:#000000;stroke-linecap:square;stroke-linejoin:miter;stroke-width:0.8;\"/>\n   </g>\n   <g id=\"patch_4\">\n    <path d=\"M 255.922813 228.439219 \nL 255.922813 10.999219 \n\" style=\"fill:none;stroke:#000000;stroke-linecap:square;stroke-linejoin:miter;stroke-width:0.8;\"/>\n   </g>\n   <g id=\"patch_5\">\n    <path d=\"M 38.482813 228.439219 \nL 255.922812 228.439219 \n\" style=\"fill:none;stroke:#000000;stroke-linecap:square;stroke-linejoin:miter;stroke-width:0.8;\"/>\n   </g>\n   <g id=\"patch_6\">\n    <path d=\"M 38.482813 10.999219 \nL 255.922812 10.999219 \n\" style=\"fill:none;stroke:#000000;stroke-linecap:square;stroke-linejoin:miter;stroke-width:0.8;\"/>\n   </g>\n  </g>\n </g>\n <defs>\n  <clipPath id=\"p6b498e7650\">\n   <rect height=\"217.44\" width=\"217.44\" x=\"38.482813\" y=\"10.999219\"/>\n  </clipPath>\n </defs>\n</svg>\n",
      "image/png": "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\n"
     },
     "metadata": {
      "needs_background": "light"
     }
=======
      "image/png": "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",
      "text/plain": [
       "<Figure size 640x480 with 1 Axes>"
      ]
     },
     "metadata": {},
     "output_type": "display_data"
>>>>>>> 78bb2e6 (Update tutorials for primitive based algos & optimization (#241))
    }
   ],
   "source": [
    "# plot sigma\n",
    "plt.imshow(sigma, interpolation=\"nearest\")\n",
    "plt.show()"
   ]
  },
  {
   "cell_type": "code",
   "execution_count": 4,
   "metadata": {
    "ExecuteTime": {
     "end_time": "2020-07-13T20:35:15.231767Z",
     "start_time": "2020-07-13T20:35:15.226490Z"
    }
   },
   "outputs": [
    {
     "output_type": "execute_result",
     "data": {
      "text/plain": [
       "\\ This file has been generated by DOcplex\n",
       "\\ ENCODING=ISO-8859-1\n",
       "\\Problem name: Portfolio\n",
       "\n",
       "Minimize\n",
       " obj: 0.015284386652 x_0 - 0.000780952145 x_1 + 0.000517920547 x_2\n",
       "      + 0.000870005837 x_3 + [ 0.002541388592 x_0^2 + 0.000146804433 x_0*x_1\n",
       "      + 0.000257201062 x_0*x_2 - 0.000199722426 x_0*x_3 + 0.000258486713 x_1^2\n",
       "      + 0.000106085519 x_1*x_2 + 0.000088963242 x_1*x_3 + 0.000791504681 x_2^2\n",
       "      - 0.000247774763 x_2*x_3 + 0.000197892585 x_3^2 ]/2\n",
       "Subject To\n",
       " c0: x_0 + x_1 + x_2 + x_3 = 2\n",
       "\n",
       "Bounds\n",
       " 0 <= x_0 <= 1\n",
       " 0 <= x_1 <= 1\n",
       " 0 <= x_2 <= 1\n",
       " 0 <= x_3 <= 1\n",
       "\n",
       "Binaries\n",
       " x_0 x_1 x_2 x_3\n",
       "End"
      ]
     },
     "metadata": {},
     "execution_count": 4
    }
   ],
   "source": [
    "q = 0.5  # set risk factor\n",
    "budget = num_assets // 2  # set budget\n",
    "penalty = num_assets  # set parameter to scale the budget penalty term\n",
    "\n",
    "portfolio = PortfolioOptimization(\n",
    "    expected_returns=mu, covariances=sigma, risk_factor=q, budget=budget\n",
    ")\n",
    "qp = portfolio.to_quadratic_program()\n",
    "qp"
   ]
  },
  {
   "cell_type": "markdown",
   "metadata": {},
   "source": [
    "We define some utility methods to print the results in a nice format."
   ]
  },
  {
   "cell_type": "code",
   "execution_count": 5,
   "metadata": {
    "ExecuteTime": {
     "end_time": "2020-07-13T20:35:15.243604Z",
     "start_time": "2020-07-13T20:35:15.233567Z"
    }
   },
   "outputs": [],
   "source": [
    "def print_result(result):\n",
    "    selection = result.x\n",
    "    value = result.fval\n",
    "    print(\"Optimal: selection {}, value {:.4f}\".format(selection, value))\n",
    "\n",
    "    eigenstate = result.min_eigen_solver_result.eigenstate\n",
    "    probabilities = (\n",
    "        eigenstate.binary_probabilities()\n",
    "        if isinstance(eigenstate, QuasiDistribution)\n",
    "        else {k: np.abs(v) ** 2 for k, v in eigenstate.to_dict().items()}\n",
    "    )\n",
    "    print(\"\\n----------------- Full result ---------------------\")\n",
    "    print(\"selection\\tvalue\\t\\tprobability\")\n",
    "    print(\"---------------------------------------------------\")\n",
    "    probabilities = sorted(probabilities.items(), key=lambda x: x[1], reverse=True)\n",
    "\n",
    "    for k, v in probabilities:\n",
    "        x = np.array([int(i) for i in list(reversed(k))])\n",
    "        value = portfolio.to_quadratic_program().objective.evaluate(x)\n",
    "        print(\"%10s\\t%.4f\\t\\t%.4f\" % (x, value, v))"
   ]
  },
  {
   "cell_type": "markdown",
   "metadata": {},
   "source": [
    "## NumPyMinimumEigensolver (as a classical reference)\n",
    "Lets solve the problem. First classically...\n",
    "\n",
    "We can now use the Operator we built above without regard to the specifics of how it was created. We set the algorithm for the NumPyMinimumEigensolver so we can have a classical reference. The problem is set for 'ising'. Backend is not required since this is computed classically not using quantum computation. The result is returned as a dictionary."
   ]
  },
  {
   "cell_type": "code",
   "execution_count": 6,
   "metadata": {
    "ExecuteTime": {
     "end_time": "2020-07-13T20:35:15.264319Z",
     "start_time": "2020-07-13T20:35:15.245811Z"
    }
   },
   "outputs": [
    {
     "output_type": "stream",
     "name": "stdout",
     "text": [
<<<<<<< HEAD
      "Optimal: selection [0. 1. 1. 0.], value 0.0003\n\n----------------- Full result ---------------------\nselection\tvalue\t\tprobability\n---------------------------------------------------\n [0 1 1 0]\t0.0003\t\t1.0000\n [1 1 1 1]\t4.0973\t\t0.0000\n [0 1 1 1]\t1.0211\t\t0.0000\n [1 0 1 1]\t1.0382\t\t0.0000\n [0 0 1 1]\t0.0018\t\t0.0000\n [1 1 0 1]\t1.0368\t\t0.0000\n [0 1 0 1]\t0.0004\t\t0.0000\n [1 0 0 1]\t0.0174\t\t0.0000\n [0 0 0 1]\t1.0208\t\t0.0000\n [1 1 1 0]\t1.0369\t\t0.0000\n [1 0 1 0]\t0.0176\t\t0.0000\n [0 0 1 0]\t1.0208\t\t0.0000\n [1 1 0 0]\t0.0160\t\t0.0000\n [0 1 0 0]\t1.0192\t\t0.0000\n [1 0 0 0]\t1.0364\t\t0.0000\n [0 0 0 0]\t4.0795\t\t0.0000\n"
=======
      "Optimal: selection [1. 0. 0. 1.], value -0.0149\n",
      "\n",
      "----------------- Full result ---------------------\n",
      "selection\tvalue\t\tprobability\n",
      "---------------------------------------------------\n",
      " [1 0 0 1]\t-0.0149\t\t1.0000\n"
>>>>>>> 78bb2e6 (Update tutorials for primitive based algos & optimization (#241))
     ]
    }
   ],
   "source": [
    "exact_mes = NumPyMinimumEigensolver()\n",
    "exact_eigensolver = MinimumEigenOptimizer(exact_mes)\n",
    "\n",
    "result = exact_eigensolver.solve(qp)\n",
    "\n",
    "print_result(result)"
   ]
  },
  {
   "attachments": {},
   "cell_type": "markdown",
   "metadata": {},
   "source": [
    "## Solution using `SamplingVQE`\n",
    "We can now use the Sampling Variational Quantum Eigensolver (`SamplingVQE`) to solve the problem. We will specify the optimizer and variational form to be used."
   ]
  },
  {
   "cell_type": "code",
   "execution_count": 7,
   "metadata": {
    "ExecuteTime": {
     "end_time": "2020-07-13T20:35:26.536878Z",
     "start_time": "2020-07-13T20:35:24.379996Z"
    }
   },
   "outputs": [
    {
     "output_type": "stream",
     "name": "stdout",
     "text": [
<<<<<<< HEAD
      "Optimal: selection [0. 1. 1. 0.], value 0.0003\n\n----------------- Full result ---------------------\nselection\tvalue\t\tprobability\n---------------------------------------------------\n [0 1 0 1]\t0.0004\t\t0.4896\n [0 0 1 1]\t0.0018\t\t0.2603\n [0 1 1 0]\t0.0003\t\t0.2500\n [0 0 1 0]\t1.0208\t\t0.0000\n [1 0 0 1]\t0.0174\t\t0.0000\n [0 0 0 1]\t1.0208\t\t0.0000\n [1 0 1 1]\t1.0382\t\t0.0000\n [1 1 1 0]\t1.0369\t\t0.0000\n [1 1 1 1]\t4.0973\t\t0.0000\n [1 0 0 0]\t1.0364\t\t0.0000\n [0 1 0 0]\t1.0192\t\t0.0000\n [1 0 1 0]\t0.0176\t\t0.0000\n [0 1 1 1]\t1.0211\t\t0.0000\n [0 0 0 0]\t4.0795\t\t0.0000\n [1 1 0 1]\t1.0368\t\t0.0000\n [1 1 0 0]\t0.0160\t\t0.0000\n"
=======
      "Optimal: selection [1. 0. 0. 1.], value -0.0149\n",
      "\n",
      "----------------- Full result ---------------------\n",
      "selection\tvalue\t\tprobability\n",
      "---------------------------------------------------\n",
      " [1 0 0 1]\t-0.0149\t\t0.3926\n",
      " [0 1 1 0]\t0.0008\t\t0.3203\n",
      " [1 0 1 1]\t-0.0150\t\t0.0820\n",
      " [0 0 0 1]\t-0.0008\t\t0.0605\n",
      " [0 0 1 1]\t-0.0010\t\t0.0439\n",
      " [1 1 0 1]\t-0.0139\t\t0.0273\n",
      " [0 1 1 1]\t-0.0000\t\t0.0166\n",
      " [0 1 0 1]\t0.0002\t\t0.0166\n",
      " [0 0 0 0]\t0.0000\t\t0.0166\n",
      " [0 1 0 0]\t0.0009\t\t0.0107\n",
      " [1 1 1 1]\t-0.0139\t\t0.0059\n",
      " [1 0 1 0]\t-0.0140\t\t0.0039\n",
      " [1 0 0 0]\t-0.0140\t\t0.0020\n",
      " [0 0 1 0]\t-0.0001\t\t0.0010\n"
>>>>>>> 78bb2e6 (Update tutorials for primitive based algos & optimization (#241))
     ]
    }
   ],
   "source": [
    "from qiskit.utils import algorithm_globals\n",
    "\n",
    "algorithm_globals.random_seed = 1234\n",
    "\n",
    "cobyla = COBYLA()\n",
    "cobyla.set_options(maxiter=500)\n",
    "ry = TwoLocal(num_assets, \"ry\", \"cz\", reps=3, entanglement=\"full\")\n",
    "vqe_mes = SamplingVQE(sampler=Sampler(), ansatz=ry, optimizer=cobyla)\n",
    "vqe = MinimumEigenOptimizer(vqe_mes)\n",
    "result = vqe.solve(qp)\n",
    "\n",
    "print_result(result)"
   ]
  },
  {
   "attachments": {},
   "cell_type": "markdown",
   "metadata": {},
   "source": [
    "### Solution using `QAOA`\n",
    "\n",
    "We also show here a result using the Quantum Approximate Optimization Algorithm (`QAOA`). This is another variational algorithm and it uses an internal variational form that is created based on the problem."
   ]
  },
  {
   "cell_type": "code",
   "execution_count": 8,
   "metadata": {
    "ExecuteTime": {
     "end_time": "2020-07-13T20:35:28.570970Z",
     "start_time": "2020-07-13T20:35:26.539093Z"
    }
   },
   "outputs": [
    {
     "output_type": "stream",
     "name": "stdout",
     "text": [
<<<<<<< HEAD
      "Optimal: selection [0. 1. 1. 0.], value 0.0003\n\n----------------- Full result ---------------------\nselection\tvalue\t\tprobability\n---------------------------------------------------\n [0 1 0 1]\t0.0004\t\t0.1751\n [0 1 1 0]\t0.0003\t\t0.1749\n [0 0 1 1]\t0.0018\t\t0.1735\n [1 1 0 0]\t0.0160\t\t0.1592\n [1 0 1 0]\t0.0176\t\t0.1577\n [1 0 0 1]\t0.0174\t\t0.1577\n [0 1 0 0]\t1.0192\t\t0.0003\n [1 0 1 1]\t1.0382\t\t0.0003\n [1 1 1 0]\t1.0369\t\t0.0003\n [1 1 0 1]\t1.0368\t\t0.0003\n [0 0 1 0]\t1.0208\t\t0.0002\n [0 0 0 1]\t1.0208\t\t0.0002\n [0 1 1 1]\t1.0211\t\t0.0002\n [1 0 0 0]\t1.0364\t\t0.0001\n [1 1 1 1]\t4.0973\t\t0.0000\n [0 0 0 0]\t4.0795\t\t0.0000\n"
=======
      "Optimal: selection [1. 0. 0. 1.], value -0.0149\n",
      "\n",
      "----------------- Full result ---------------------\n",
      "selection\tvalue\t\tprobability\n",
      "---------------------------------------------------\n",
      " [1 0 1 0]\t-0.0140\t\t0.1826\n",
      " [0 0 1 1]\t-0.0010\t\t0.1709\n",
      " [1 1 0 0]\t-0.0130\t\t0.1650\n",
      " [1 0 0 1]\t-0.0149\t\t0.1611\n",
      " [0 1 0 1]\t0.0002\t\t0.1582\n",
      " [0 1 1 0]\t0.0008\t\t0.1543\n",
      " [1 1 1 1]\t-0.0139\t\t0.0020\n",
      " [0 1 1 1]\t-0.0000\t\t0.0020\n",
      " [0 0 0 0]\t0.0000\t\t0.0010\n",
      " [1 1 0 1]\t-0.0139\t\t0.0010\n",
      " [1 1 1 0]\t-0.0130\t\t0.0010\n",
      " [0 0 0 1]\t-0.0008\t\t0.0010\n"
>>>>>>> 78bb2e6 (Update tutorials for primitive based algos & optimization (#241))
     ]
    }
   ],
   "source": [
    "algorithm_globals.random_seed = 1234\n",
    "\n",
    "cobyla = COBYLA()\n",
    "cobyla.set_options(maxiter=250)\n",
    "qaoa_mes = QAOA(sampler=Sampler(), optimizer=cobyla, reps=3)\n",
    "qaoa = MinimumEigenOptimizer(qaoa_mes)\n",
    "result = qaoa.solve(qp)\n",
    "\n",
    "print_result(result)"
   ]
  },
  {
   "cell_type": "code",
   "execution_count": 9,
   "metadata": {
    "ExecuteTime": {
     "end_time": "2020-07-13T20:35:29.079589Z",
     "start_time": "2020-07-13T20:35:28.573543Z"
    }
   },
   "outputs": [
    {
     "output_type": "display_data",
     "data": {
<<<<<<< HEAD
      "text/plain": "<IPython.core.display.HTML object>",
      "text/html": "<h3>Version Information</h3><table><tr><th>Qiskit Software</th><th>Version</th></tr><tr><td>Qiskit</td><td>None</td></tr><tr><td>Terra</td><td>0.17.0.dev0+89d15f3</td></tr><tr><td>Aer</td><td>0.7.4</td></tr><tr><td>Ignis</td><td>0.5.2</td></tr><tr><td>Aqua</td><td>None</td></tr><tr><td>IBM Q Provider</td><td>0.11.1</td></tr><tr><th>System information</th></tr><tr><td>Python</td><td>3.8.6 (default, Mar 10 2021, 14:41:09) \n[Clang 12.0.0 (clang-1200.0.32.29)]</td></tr><tr><td>OS</td><td>Darwin</td></tr><tr><td>CPUs</td><td>8</td></tr><tr><td>Memory (Gb)</td><td>32.0</td></tr><tr><td colspan='2'>Thu Mar 18 18:34:56 2021 JST</td></tr></table>"
=======
      "text/html": [
       "<h3>Version Information</h3><table><tr><th>Qiskit Software</th><th>Version</th></tr><tr><td><code>qiskit-terra</code></td><td>0.23.1</td></tr><tr><td><code>qiskit-aer</code></td><td>0.11.2</td></tr><tr><td><code>qiskit-ibmq-provider</code></td><td>0.20.0</td></tr><tr><td><code>qiskit</code></td><td>0.41.0</td></tr><tr><td><code>qiskit-finance</code></td><td>0.4.0</td></tr><tr><td><code>qiskit-optimization</code></td><td>0.5.0</td></tr><tr><td><code>qiskit-machine-learning</code></td><td>0.5.0</td></tr><tr><th>System information</th></tr><tr><td>Python version</td><td>3.9.10</td></tr><tr><td>Python compiler</td><td>Clang 13.1.6 (clang-1316.0.21.2.5)</td></tr><tr><td>Python build</td><td>main, Aug  9 2022 18:26:17</td></tr><tr><td>OS</td><td>Darwin</td></tr><tr><td>CPUs</td><td>10</td></tr><tr><td>Memory (Gb)</td><td>64.0</td></tr><tr><td colspan='2'>Fri Feb 17 11:17:45 2023 JST</td></tr></table>"
      ],
      "text/plain": [
       "<IPython.core.display.HTML object>"
      ]
>>>>>>> 78bb2e6 (Update tutorials for primitive based algos & optimization (#241))
     },
     "metadata": {}
    },
    {
     "output_type": "display_data",
     "data": {
<<<<<<< HEAD
      "text/plain": "<IPython.core.display.HTML object>",
      "text/html": "<div style='width: 100%; background-color:#d5d9e0;padding-left: 10px; padding-bottom: 10px; padding-right: 10px; padding-top: 5px'><h3>This code is a part of Qiskit</h3><p>&copy; Copyright IBM 2017, 2021.</p><p>This code is licensed under the Apache License, Version 2.0. You may<br>obtain a copy of this license in the LICENSE.txt file in the root directory<br> of this source tree or at http://www.apache.org/licenses/LICENSE-2.0.<p>Any modifications or derivative works of this code must retain this<br>copyright notice, and modified files need to carry a notice indicating<br>that they have been altered from the originals.</p></div>"
=======
      "text/html": [
       "<div style='width: 100%; background-color:#d5d9e0;padding-left: 10px; padding-bottom: 10px; padding-right: 10px; padding-top: 5px'><h3>This code is a part of Qiskit</h3><p>&copy; Copyright IBM 2017, 2023.</p><p>This code is licensed under the Apache License, Version 2.0. You may<br>obtain a copy of this license in the LICENSE.txt file in the root directory<br> of this source tree or at http://www.apache.org/licenses/LICENSE-2.0.<p>Any modifications or derivative works of this code must retain this<br>copyright notice, and modified files need to carry a notice indicating<br>that they have been altered from the originals.</p></div>"
      ],
      "text/plain": [
       "<IPython.core.display.HTML object>"
      ]
>>>>>>> 78bb2e6 (Update tutorials for primitive based algos & optimization (#241))
     },
     "metadata": {}
    }
   ],
   "source": [
    "import qiskit.tools.jupyter\n",
    "\n",
    "%qiskit_version_table\n",
    "%qiskit_copyright"
   ]
  },
  {
   "cell_type": "code",
   "execution_count": null,
   "metadata": {},
   "outputs": [],
   "source": []
  }
 ],
 "metadata": {
  "celltoolbar": "Tags",
  "kernelspec": {
<<<<<<< HEAD
   "name": "python3",
   "display_name": "Python 3.8.6 64-bit ('opt-qiskit')",
   "metadata": {
    "interpreter": {
     "hash": "9c837c7ac14898b4157c3602a52e89b1bd57ef10d6bdaa28fc65fa6f9116fa6b"
    }
   }
=======
   "display_name": "qiskit",
   "language": "python",
   "name": "python3"
>>>>>>> 78bb2e6 (Update tutorials for primitive based algos & optimization (#241))
  },
  "language_info": {
   "codemirror_mode": {
    "name": "ipython",
    "version": 3
   },
   "file_extension": ".py",
   "mimetype": "text/x-python",
   "name": "python",
   "nbconvert_exporter": "python",
   "pygments_lexer": "ipython3",
<<<<<<< HEAD
   "version": "3.8.6-final"
=======
   "version": "3.9.10"
>>>>>>> 78bb2e6 (Update tutorials for primitive based algos & optimization (#241))
  },
  "varInspector": {
   "cols": {
    "lenName": 16,
    "lenType": 16,
    "lenVar": 40
   },
   "kernels_config": {
    "python": {
     "delete_cmd_postfix": "",
     "delete_cmd_prefix": "del ",
     "library": "var_list.py",
     "varRefreshCmd": "print(var_dic_list())"
    },
    "r": {
     "delete_cmd_postfix": ") ",
     "delete_cmd_prefix": "rm(",
     "library": "var_list.r",
     "varRefreshCmd": "cat(var_dic_list()) "
    }
   },
   "types_to_exclude": [
    "module",
    "function",
    "builtin_function_or_method",
    "instance",
    "_Feature"
   ],
   "window_display": false
  },
  "vscode": {
   "interpreter": {
    "hash": "e3b168dd14084693aa742087410f9921d6040e41eb6bdb17b20e4003862f82dd"
   }
  }
 },
 "nbformat": 4,
 "nbformat_minor": 1
}