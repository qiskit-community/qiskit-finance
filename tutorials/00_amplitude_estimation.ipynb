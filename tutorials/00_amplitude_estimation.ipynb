{
 "cells": [
  {
   "cell_type": "markdown",
   "metadata": {},
   "source": [
    "# Quantum Amplitude Estimation\n",
    "\n",
    "Given an operator $\\mathcal{A}$ that acts as\n",
    "\n",
    "$$\n",
    "    \\mathcal{A}|0\\rangle = \\sqrt{1 - a}|\\Psi_0\\rangle + \\sqrt{a}|\\Psi_1\\rangle\n",
    "$$\n",
    "\n",
    "Quantum Amplitude Estimation (QAE) is the task of finding an estimate for the amplitude $a$ of the state $|\\Psi_1\\rangle$:\n",
    "\n",
    "$$\n",
    "    a = |\\langle\\Psi_1 | \\Psi_1\\rangle|^2.\n",
    "$$\n",
    "\n",
    "This task has first been investigated by Brassard et al. [1] in 2000 and their algorithm uses a combination of the Grover operator \n",
    "\n",
    "$$\n",
    "    \\mathcal{Q} = \\mathcal{A}\\mathcal{S}_0\\mathcal{A}^\\dagger\\mathcal{S}_{\\Psi_1}\n",
    "$$\n",
    "\n",
    "where $\\mathcal{S}_0$ and $\\mathcal{S}_{\\Psi_1}$ are reflections about the $|0\\rangle$ and $|\\Psi_1\\rangle$ states, respectively, and phase estimation. However this algorithm, called [AmplitudeEstimation](https://qiskit-community.github.io/qiskit-algorithms/stubs/qiskit_algorithms.AmplitudeEstimation.html) in [Qiskit Algorithms](https://qiskit-community.github.io/qiskit-algorithms/), requires large circuits and is computationally expensive. Therefore, other variants of QAE have been proposed, which we will showcase in this tutorial for a simple example.\n",
    "\n",
    "In our example, $\\mathcal{A}$ describes a Bernoulli random variable with (assumed to be unknown) success probability $p$:\n",
    "\n",
    "$$\n",
    "    \\mathcal{A}|0\\rangle = \\sqrt{1 - p}|0\\rangle + \\sqrt{p}|1\\rangle.\n",
    "$$\n",
    "\n",
    "On a quantum computer, we can model this operator with a rotation around the $Y$-axis of a single qubit\n",
    "\n",
    "$$\n",
    "\\mathcal{A} = R_Y(\\theta_p), \\theta_p = 2\\sin^{-1}(\\sqrt{p}).\n",
    "$$\n",
    "\n",
    "The Grover operator for this case is particularly simple\n",
    "\n",
    "$$\n",
    "\\mathcal{Q} = R_Y(2\\theta_p),\n",
    "$$\n",
    "\n",
    "whose powers are very easy to calculate: $\\mathcal{Q}^k = R_Y(2k\\theta_p)$."
   ]
  },
  {
   "cell_type": "markdown",
   "metadata": {},
   "source": [
    "We'll fix the probability we want to estimate to $p = 0.2$."
   ]
  },
  {
   "cell_type": "code",
   "execution_count": 1,
   "metadata": {
    "execution": {
     "iopub.execute_input": "2024-02-13T17:26:27.251208Z",
     "iopub.status.busy": "2024-02-13T17:26:27.250736Z",
     "iopub.status.idle": "2024-02-13T17:26:27.257816Z",
     "shell.execute_reply": "2024-02-13T17:26:27.257262Z"
    }
   },
   "outputs": [],
   "source": [
    "p = 0.2"
   ]
  },
  {
   "cell_type": "markdown",
   "metadata": {},
   "source": [
    "Now we can define circuits for $\\mathcal{A}$ and $\\mathcal{Q}$. "
   ]
  },
  {
   "cell_type": "code",
   "execution_count": 2,
   "metadata": {
    "execution": {
     "iopub.execute_input": "2024-02-13T17:26:27.260408Z",
     "iopub.status.busy": "2024-02-13T17:26:27.259994Z",
     "iopub.status.idle": "2024-02-13T17:26:27.702616Z",
     "shell.execute_reply": "2024-02-13T17:26:27.702011Z"
    }
   },
   "outputs": [],
   "source": [
    "import numpy as np\n",
    "from qiskit.circuit import QuantumCircuit\n",
    "\n",
    "\n",
    "class BernoulliA(QuantumCircuit):\n",
    "    \"\"\"A circuit representing the Bernoulli A operator.\"\"\"\n",
    "\n",
    "    def __init__(self, probability):\n",
    "        super().__init__(1)  # circuit on 1 qubit\n",
    "\n",
    "        theta_p = 2 * np.arcsin(np.sqrt(probability))\n",
    "        self.ry(theta_p, 0)\n",
    "\n",
    "\n",
    "class BernoulliQ(QuantumCircuit):\n",
    "    \"\"\"A circuit representing the Bernoulli Q operator.\"\"\"\n",
    "\n",
    "    def __init__(self, probability):\n",
    "        super().__init__(1)  # circuit on 1 qubit\n",
    "\n",
    "        self._theta_p = 2 * np.arcsin(np.sqrt(probability))\n",
    "        self.ry(2 * self._theta_p, 0)\n",
    "\n",
    "    def power(self, k):\n",
    "        # implement the efficient power of Q\n",
    "        q_k = QuantumCircuit(1)\n",
    "        q_k.ry(2 * k * self._theta_p, 0)\n",
    "        return q_k"
   ]
  },
  {
   "cell_type": "code",
   "execution_count": 3,
   "metadata": {
    "execution": {
     "iopub.execute_input": "2024-02-13T17:26:27.705664Z",
     "iopub.status.busy": "2024-02-13T17:26:27.705190Z",
     "iopub.status.idle": "2024-02-13T17:26:27.708508Z",
     "shell.execute_reply": "2024-02-13T17:26:27.707861Z"
    }
   },
   "outputs": [],
   "source": [
    "A = BernoulliA(p)\n",
    "Q = BernoulliQ(p)"
   ]
  },
  {
   "cell_type": "markdown",
   "metadata": {},
   "source": [
    "### Amplitude Estimation workflow"
   ]
  },
  {
   "cell_type": "markdown",
   "metadata": {},
   "source": [
    "Qiskit Algorithms implements several QAE algorithms that all derive from the [AmplitudeEstimator](https://qiskit-community.github.io/qiskit-algorithms/stubs/qiskit_algorithms.AmplitudeEstimator.html) interface. In the initializer we specify algorithm specific settings and the `estimate` method, which does all the work, takes an [EstimationProblem](https://qiskit-community.github.io/qiskit-algorithms/stubs/qiskit_algorithms.EstimationProblem.html) as input and returns an [AmplitudeEstimationResult](https://qiskit-community.github.io/qiskit-algorithms/stubs/qiskit_algorithms.AmplitudeEstimatorResult.html) object. Since all QAE variants follow the same interface, we can use them all to solve the same problem instance. \n",
    "\n",
    "Next, we'll run all different QAE algorithms. To do so, we first define the estimation problem which will contain the $\\mathcal{A}$ and $\\mathcal{Q}$ operators as well as how to identify the $|\\Psi_1\\rangle$ state, which in this simple example is just $|1\\rangle$."
   ]
  },
  {
   "cell_type": "code",
   "execution_count": 4,
   "metadata": {
    "execution": {
     "iopub.execute_input": "2024-02-13T17:26:27.710984Z",
     "iopub.status.busy": "2024-02-13T17:26:27.710604Z",
     "iopub.status.idle": "2024-02-13T17:26:27.916089Z",
     "shell.execute_reply": "2024-02-13T17:26:27.915451Z"
    }
   },
   "outputs": [],
   "source": [
    "from qiskit_algorithms import EstimationProblem\n",
    "\n",
    "problem = EstimationProblem(\n",
    "    state_preparation=A,  # A operator\n",
    "    grover_operator=Q,  # Q operator\n",
    "    objective_qubits=[0],  # the \"good\" state Psi1 is identified as measuring |1> in qubit 0\n",
    ")"
   ]
  },
  {
   "cell_type": "markdown",
   "metadata": {},
   "source": [
    "To execute circuits we'll use `Sampler`."
   ]
  },
  {
   "cell_type": "code",
   "execution_count": 5,
   "metadata": {
    "execution": {
     "iopub.execute_input": "2024-02-13T17:26:27.919195Z",
     "iopub.status.busy": "2024-02-13T17:26:27.918755Z",
     "iopub.status.idle": "2024-02-13T17:26:27.921987Z",
     "shell.execute_reply": "2024-02-13T17:26:27.921417Z"
    }
   },
   "outputs": [],
   "source": [
    "from qiskit.primitives import Sampler\n",
    "\n",
    "sampler = Sampler()"
   ]
  },
  {
   "cell_type": "markdown",
   "metadata": {},
   "source": [
    "### Canonical AE\n",
    "\n",
    "Now let's solve this with the original QAE implementation by Brassard et al. [1]."
   ]
  },
  {
   "cell_type": "code",
   "execution_count": 6,
   "metadata": {
    "execution": {
     "iopub.execute_input": "2024-02-13T17:26:27.924567Z",
     "iopub.status.busy": "2024-02-13T17:26:27.924176Z",
     "iopub.status.idle": "2024-02-13T17:26:27.927366Z",
     "shell.execute_reply": "2024-02-13T17:26:27.926805Z"
    }
   },
   "outputs": [],
   "source": [
    "from qiskit_algorithms import AmplitudeEstimation\n",
    "\n",
    "ae = AmplitudeEstimation(\n",
    "    num_eval_qubits=3,  # the number of evaluation qubits specifies circuit width and accuracy\n",
    "    sampler=sampler,\n",
    ")"
   ]
  },
  {
   "cell_type": "markdown",
   "metadata": {},
   "source": [
    "With the algorithm defined, we can call the `estimate` method and provide it with the problem to solve."
   ]
  },
  {
   "cell_type": "code",
   "execution_count": 7,
   "metadata": {
    "execution": {
     "iopub.execute_input": "2024-02-13T17:26:27.929807Z",
     "iopub.status.busy": "2024-02-13T17:26:27.929423Z",
     "iopub.status.idle": "2024-02-13T17:26:27.979100Z",
     "shell.execute_reply": "2024-02-13T17:26:27.978557Z"
    }
   },
   "outputs": [],
   "source": [
    "ae_result = ae.estimate(problem)"
   ]
  },
  {
   "cell_type": "markdown",
   "metadata": {},
   "source": [
    "The estimate is available in the `estimation` key:"
   ]
  },
  {
   "cell_type": "code",
   "execution_count": 8,
   "metadata": {
    "execution": {
     "iopub.execute_input": "2024-02-13T17:26:27.981607Z",
     "iopub.status.busy": "2024-02-13T17:26:27.981212Z",
     "iopub.status.idle": "2024-02-13T17:26:27.984711Z",
     "shell.execute_reply": "2024-02-13T17:26:27.983999Z"
    }
   },
   "outputs": [
    {
     "name": "stdout",
     "output_type": "stream",
     "text": [
      "0.1464466\n"
     ]
    }
   ],
   "source": [
    "print(ae_result.estimation)"
   ]
  },
  {
   "cell_type": "markdown",
   "metadata": {},
   "source": [
    "We see that this is not a very good estimate for our target of $p=0.2$! That's due to the fact the canonical AE is restricted to a discrete grid, specified by the number of evaluation qubits:"
   ]
  },
  {
   "cell_type": "code",
   "execution_count": 9,
   "metadata": {
    "execution": {
     "iopub.execute_input": "2024-02-13T17:26:28.019051Z",
     "iopub.status.busy": "2024-02-13T17:26:28.018586Z",
     "iopub.status.idle": "2024-02-13T17:26:28.487387Z",
     "shell.execute_reply": "2024-02-13T17:26:28.486662Z"
    }
   },
   "outputs": [
    {
     "data": {
      "image/png": "[encoded data removed]",
      "text/plain": [
       "<Figure size 640x480 with 1 Axes>"
      ]
     },
     "metadata": {},
     "output_type": "display_data"
    }
   ],
   "source": [
    "import matplotlib.pyplot as plt\n",
    "\n",
    "# plot estimated values\n",
    "gridpoints = list(ae_result.samples.keys())\n",
    "probabilities = list(ae_result.samples.values())\n",
    "\n",
    "plt.bar(gridpoints, probabilities, width=0.5 / len(probabilities))\n",
    "plt.axvline(p, color=\"r\", ls=\"--\")\n",
    "plt.xticks(size=15)\n",
    "plt.yticks([0, 0.25, 0.5, 0.75, 1], size=15)\n",
    "plt.title(\"Estimated Values\", size=15)\n",
    "plt.ylabel(\"Probability\", size=15)\n",
    "plt.xlabel(r\"Amplitude $a$\", size=15)\n",
    "plt.ylim((0, 1))\n",
    "plt.grid()\n",
    "plt.show()"
   ]
  },
  {
   "cell_type": "markdown",
   "metadata": {},
   "source": [
    "To improve the estimate we can interpolate the measurement probabilities and compute the maximum likelihood estimator that produces this probability distribution:"
   ]
  },
  {
   "cell_type": "code",
   "execution_count": 10,
   "metadata": {
    "execution": {
     "iopub.execute_input": "2024-02-13T17:26:28.490336Z",
     "iopub.status.busy": "2024-02-13T17:26:28.489778Z",
     "iopub.status.idle": "2024-02-13T17:26:28.493516Z",
     "shell.execute_reply": "2024-02-13T17:26:28.492877Z"
    }
   },
   "outputs": [
    {
     "name": "stdout",
     "output_type": "stream",
     "text": [
      "Interpolated MLE estimator: 0.19999999403255486\n"
     ]
    }
   ],
   "source": [
    "print(\"Interpolated MLE estimator:\", ae_result.mle)"
   ]
  },
  {
   "cell_type": "markdown",
   "metadata": {},
   "source": [
    "We can have a look at the circuit that AE executes:"
   ]
  },
  {
   "cell_type": "code",
   "execution_count": 11,
   "metadata": {
    "execution": {
     "iopub.execute_input": "2024-02-13T17:26:28.496078Z",
     "iopub.status.busy": "2024-02-13T17:26:28.495700Z",
     "iopub.status.idle": "2024-02-13T17:26:28.851070Z",
     "shell.execute_reply": "2024-02-13T17:26:28.850351Z"
    }
   },
   "outputs": [
    {
     "data": {
      "image/png": "[encoded data removed]",
      "text/plain": [
       "<Figure size 999.048x367.889 with 1 Axes>"
      ]
     },
     "execution_count": 11,
     "metadata": {},
     "output_type": "execute_result"
    }
   ],
   "source": [
    "ae_circuit = ae.construct_circuit(problem)\n",
    "ae_circuit.decompose().draw(\n",
    "    \"mpl\", style=\"iqx\"\n",
    ")  # decompose 1 level: exposes the Phase estimation circuit!"
   ]
  },
  {
   "cell_type": "code",
   "execution_count": 12,
   "metadata": {
    "execution": {
     "iopub.execute_input": "2024-02-13T17:26:28.854106Z",
     "iopub.status.busy": "2024-02-13T17:26:28.853707Z",
     "iopub.status.idle": "2024-02-13T17:26:29.352271Z",
     "shell.execute_reply": "2024-02-13T17:26:29.351468Z"
    }
   },
   "outputs": [
    {
     "data": {
      "image/png": "[encoded data removed]",
      "text/plain": [
       "<Figure size 2253.21x1204 with 1 Axes>"
      ]
     },
     "execution_count": 12,
     "metadata": {},
     "output_type": "execute_result"
    }
   ],
   "source": [
    "from qiskit import transpile\n",
    "\n",
    "\n",
    "basis_gates = [\"h\", \"ry\", \"cry\", \"cx\", \"ccx\", \"p\", \"cp\", \"x\", \"s\", \"sdg\", \"y\", \"t\", \"cz\"]\n",
    "transpile(ae_circuit, basis_gates=basis_gates, optimization_level=2).draw(\"mpl\", style=\"iqx\")"
   ]
  },
  {
   "cell_type": "markdown",
   "metadata": {},
   "source": [
    "### Iterative Amplitude Estimation\n",
    "\n",
    "See [2]."
   ]
  },
  {
   "cell_type": "code",
   "execution_count": 13,
   "metadata": {
    "execution": {
     "iopub.execute_input": "2024-02-13T17:26:29.355197Z",
     "iopub.status.busy": "2024-02-13T17:26:29.354693Z",
     "iopub.status.idle": "2024-02-13T17:26:29.362810Z",
     "shell.execute_reply": "2024-02-13T17:26:29.362149Z"
    }
   },
   "outputs": [
    {
     "name": "stdout",
     "output_type": "stream",
     "text": [
      "Estimate: 0.2\n"
     ]
    }
   ],
   "source": [
    "from qiskit_algorithms import IterativeAmplitudeEstimation\n",
    "\n",
    "iae = IterativeAmplitudeEstimation(\n",
    "    epsilon_target=0.01,  # target accuracy\n",
    "    alpha=0.05,  # width of the confidence interval\n",
    "    sampler=sampler,\n",
    ")\n",
    "iae_result = iae.estimate(problem)\n",
    "\n",
    "print(\"Estimate:\", iae_result.estimation)"
   ]
  },
  {
   "cell_type": "markdown",
   "metadata": {},
   "source": [
    "The circuits here only consist of Grover powers and are much cheaper!"
   ]
  },
  {
   "cell_type": "code",
   "execution_count": 14,
   "metadata": {
    "execution": {
     "iopub.execute_input": "2024-02-13T17:26:29.365411Z",
     "iopub.status.busy": "2024-02-13T17:26:29.365079Z",
     "iopub.status.idle": "2024-02-13T17:26:29.461117Z",
     "shell.execute_reply": "2024-02-13T17:26:29.460418Z"
    }
   },
   "outputs": [
    {
     "data": {
      "image/png": "[encoded data removed]",
      "text/plain": [
       "<Figure size 269.064x117.056 with 1 Axes>"
      ]
     },
     "execution_count": 14,
     "metadata": {},
     "output_type": "execute_result"
    }
   ],
   "source": [
    "iae_circuit = iae.construct_circuit(problem, k=3)\n",
    "iae_circuit.draw(\"mpl\", style=\"iqx\")"
   ]
  },
  {
   "cell_type": "markdown",
   "metadata": {},
   "source": [
    "### Maximum Likelihood Amplitude Estimation\n",
    "\n",
    "See [3]."
   ]
  },
  {
   "cell_type": "code",
   "execution_count": 15,
   "metadata": {
    "execution": {
     "iopub.execute_input": "2024-02-13T17:26:29.464699Z",
     "iopub.status.busy": "2024-02-13T17:26:29.464046Z",
     "iopub.status.idle": "2024-02-13T17:26:30.004031Z",
     "shell.execute_reply": "2024-02-13T17:26:30.003322Z"
    }
   },
   "outputs": [
    {
     "name": "stdout",
     "output_type": "stream",
     "text": [
      "Estimate: 0.20002237175368104\n"
     ]
    }
   ],
   "source": [
    "from qiskit_algorithms import MaximumLikelihoodAmplitudeEstimation\n",
    "\n",
    "mlae = MaximumLikelihoodAmplitudeEstimation(\n",
    "    evaluation_schedule=3,  # log2 of the maximal Grover power\n",
    "    sampler=sampler,\n",
    ")\n",
    "mlae_result = mlae.estimate(problem)\n",
    "\n",
    "print(\"Estimate:\", mlae_result.estimation)"
   ]
  },
  {
   "cell_type": "markdown",
   "metadata": {},
   "source": [
    "### Faster Amplitude Estimation\n",
    "\n",
    "See [4]."
   ]
  },
  {
   "cell_type": "code",
   "execution_count": 16,
   "metadata": {
    "execution": {
     "iopub.execute_input": "2024-02-13T17:26:30.006818Z",
     "iopub.status.busy": "2024-02-13T17:26:30.006572Z",
     "iopub.status.idle": "2024-02-13T17:26:30.043264Z",
     "shell.execute_reply": "2024-02-13T17:26:30.042539Z"
    }
   },
   "outputs": [
    {
     "name": "stdout",
     "output_type": "stream",
     "text": [
      "Estimate: 0.19779758191136476\n"
     ]
    },
    {
     "name": "stderr",
     "output_type": "stream",
     "text": [
      "/opt/hostedtoolcache/Python/3.8.18/x64/lib/python3.8/site-packages/qiskit_algorithms/amplitude_estimators/estimation_problem.py:209: UserWarning: Rescaling discards the Grover operator.\n",
      "  warnings.warn(\"Rescaling discards the Grover operator.\")\n"
     ]
    }
   ],
   "source": [
    "from qiskit_algorithms import FasterAmplitudeEstimation\n",
    "\n",
    "fae = FasterAmplitudeEstimation(\n",
    "    delta=0.01,  # target accuracy\n",
    "    maxiter=3,  # determines the maximal power of the Grover operator\n",
    "    sampler=sampler,\n",
    ")\n",
    "fae_result = fae.estimate(problem)\n",
    "\n",
    "print(\"Estimate:\", fae_result.estimation)"
   ]
  },
  {
   "cell_type": "markdown",
   "metadata": {},
   "source": [
    "### References\n",
    "\n",
    "[1] Quantum Amplitude Amplification and Estimation. Brassard et al (2000). https://arxiv.org/abs/quant-ph/0005055\n",
    "\n",
    "[2] Iterative Quantum Amplitude Estimation. Grinko, D., Gacon, J., Zoufal, C., & Woerner, S. (2019). https://arxiv.org/abs/1912.05559\n",
    "\n",
    "[3] Amplitude Estimation without Phase Estimation. Suzuki, Y., Uno, S., Raymond, R., Tanaka, T., Onodera, T., & Yamamoto, N. (2019). https://arxiv.org/abs/1904.10246\n",
    "\n",
    "[4] Faster Amplitude Estimation. K. Nakaji (2020). https://arxiv.org/pdf/2003.02417.pdf"
   ]
  },
  {
   "cell_type": "code",
   "execution_count": 17,
   "metadata": {
    "execution": {
     "iopub.execute_input": "2024-02-13T17:26:30.046082Z",
     "iopub.status.busy": "2024-02-13T17:26:30.045680Z",
     "iopub.status.idle": "2024-02-13T17:26:30.206244Z",
     "shell.execute_reply": "2024-02-13T17:26:30.205527Z"
    }
   },
   "outputs": [
    {
     "name": "stderr",
     "output_type": "stream",
     "text": [
      "/tmp/ipykernel_2352/1492642725.py:1: DeprecationWarning: qiskit.tools.jupyter is deprecated and will be removed in Qiskit 1.0.0\n",
      "  import qiskit.tools.jupyter\n"
     ]
    },
    {
     "data": {
      "text/html": [
       "<h3>Version Information</h3><table><tr><th>Software</th><th>Version</th></tr><tr><td><code>qiskit</code></td><td>0.46.0</td></tr><tr><td><code>qiskit_algorithms</code></td><td>0.2.2</td></tr><tr><td><code>qiskit_aer</code></td><td>0.13.3</td></tr><tr><th colspan='2'>System information</th></tr><tr><td>Python version</td><td>3.8.18</td></tr><tr><td>Python compiler</td><td>GCC 11.4.0</td></tr><tr><td>Python build</td><td>default, Aug 28 2023 08:27:22</td></tr><tr><td>OS</td><td>Linux</td></tr><tr><td>CPUs</td><td>2</td></tr><tr><td>Memory (Gb)</td><td>15.60690689086914</td></tr><tr><td colspan='2'>Tue Feb 13 17:26:30 2024 UTC</td></tr></table>"
      ],
      "text/plain": [
       "<IPython.core.display.HTML object>"
      ]
     },
     "metadata": {},
     "output_type": "display_data"
    },
    {
     "data": {
      "text/html": [
       "<div style='width: 100%; background-color:#d5d9e0;padding-left: 10px; padding-bottom: 10px; padding-right: 10px; padding-top: 5px'><h3>This code is a part of Qiskit</h3><p>&copy; Copyright IBM 2017, 2024.</p><p>This code is licensed under the Apache License, Version 2.0. You may<br>obtain a copy of this license in the LICENSE.txt file in the root directory<br> of this source tree or at http://www.apache.org/licenses/LICENSE-2.0.<p>Any modifications or derivative works of this code must retain this<br>copyright notice, and modified files need to carry a notice indicating<br>that they have been altered from the originals.</p></div>"
      ],
      "text/plain": [
       "<IPython.core.display.HTML object>"
      ]
     },
     "metadata": {},
     "output_type": "display_data"
    }
   ],
   "source": [
    "import qiskit.tools.jupyter\n",
    "\n",
    "%qiskit_version_table\n",
    "%qiskit_copyright"
   ]
  },
  {
   "cell_type": "code",
   "execution_count": null,
   "metadata": {},
   "outputs": [],
   "source": []
  }
 ],
 "metadata": {
  "kernelspec": {
   "display_name": "Python 3",
   "language": "python",
   "name": "python3"
  },
  "language_info": {
   "codemirror_mode": {
    "name": "ipython",
    "version": 3
   },
   "file_extension": ".py",
   "mimetype": "text/x-python",
   "name": "python",
   "nbconvert_exporter": "python",
   "pygments_lexer": "ipython3",
   "version": "3.8.18"
  },
  "vscode": {
   "interpreter": {
    "hash": "e3b168dd14084693aa742087410f9921d6040e41eb6bdb17b20e4003862f82dd"
   }
  },
  "widgets": {
   "application/vnd.jupyter.widget-state+json": {
    "state": {
     "3ddb622aa0754924aa15deca67d97c8c": {
      "model_module": "@jupyter-widgets/controls",
      "model_module_version": "2.0.0",
      "model_name": "HTMLModel",
      "state": {
       "_dom_classes": [],
       "_model_module": "@jupyter-widgets/controls",
       "_model_module_version": "2.0.0",
       "_model_name": "HTMLModel",
       "_view_count": null,
       "_view_module": "@jupyter-widgets/controls",
       "_view_module_version": "2.0.0",
       "_view_name": "HTMLView",
       "description": "",
       "description_allow_html": false,
       "layout": "IPY_MODEL_abba34b0b863438b84ceb4de8f11d954",
       "placeholder": "​",
       "style": "IPY_MODEL_a05eb683643647d79b602462843f4e00",
       "tabbable": null,
       "tooltip": null,
       "value": "<p style='font-family: IBM Plex Sans, Arial, Helvetica, sans-serif; font-size: 20px; font-weight: medium;'>Circuit Properties</p>"
      }
     },
     "a05eb683643647d79b602462843f4e00": {
      "model_module": "@jupyter-widgets/controls",
      "model_module_version": "2.0.0",
      "model_name": "HTMLStyleModel",
      "state": {
       "_model_module": "@jupyter-widgets/controls",
       "_model_module_version": "2.0.0",
       "_model_name": "HTMLStyleModel",
       "_view_count": null,
       "_view_module": "@jupyter-widgets/base",
       "_view_module_version": "2.0.0",
       "_view_name": "StyleView",
       "background": null,
       "description_width": "",
       "font_size": null,
       "text_color": null
      }
     },
     "abba34b0b863438b84ceb4de8f11d954": {
      "model_module": "@jupyter-widgets/base",
      "model_module_version": "2.0.0",
      "model_name": "LayoutModel",
      "state": {
       "_model_module": "@jupyter-widgets/base",
       "_model_module_version": "2.0.0",
       "_model_name": "LayoutModel",
       "_view_count": null,
       "_view_module": "@jupyter-widgets/base",
       "_view_module_version": "2.0.0",
       "_view_name": "LayoutView",
       "align_content": null,
       "align_items": null,
       "align_self": null,
       "border_bottom": null,
       "border_left": null,
       "border_right": null,
       "border_top": null,
       "bottom": null,
       "display": null,
       "flex": null,
       "flex_flow": null,
       "grid_area": null,
       "grid_auto_columns": null,
       "grid_auto_flow": null,
       "grid_auto_rows": null,
       "grid_column": null,
       "grid_gap": null,
       "grid_row": null,
       "grid_template_areas": null,
       "grid_template_columns": null,
       "grid_template_rows": null,
       "height": null,
       "justify_content": null,
       "justify_items": null,
       "left": null,
       "margin": "0px 0px 10px 0px",
       "max_height": null,
       "max_width": null,
       "min_height": null,
       "min_width": null,
       "object_fit": null,
       "object_position": null,
       "order": null,
       "overflow": null,
       "padding": null,
       "right": null,
       "top": null,
       "visibility": null,
       "width": null
      }
     }
    },
    "version_major": 2,
    "version_minor": 0
   }
  }
 },
 "nbformat": 4,
 "nbformat_minor": 4
}
